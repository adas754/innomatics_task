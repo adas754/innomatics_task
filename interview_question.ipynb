{
  "nbformat": 4,
  "nbformat_minor": 0,
  "metadata": {
    "colab": {
      "provenance": [],
      "authorship_tag": "ABX9TyM2GYSV0AVQAGQZlsVJeyox",
      "include_colab_link": true
    },
    "kernelspec": {
      "name": "python3",
      "display_name": "Python 3"
    },
    "language_info": {
      "name": "python"
    }
  },
  "cells": [
    {
      "cell_type": "markdown",
      "metadata": {
        "id": "view-in-github",
        "colab_type": "text"
      },
      "source": [
        "<a href=\"https://colab.research.google.com/github/adas754/innomatics_task/blob/main/interview_question.ipynb\" target=\"_parent\"><img src=\"https://colab.research.google.com/assets/colab-badge.svg\" alt=\"Open In Colab\"/></a>"
      ]
    },
    {
      "cell_type": "markdown",
      "source": [
        "#prime number"
      ],
      "metadata": {
        "id": "hxpNrqFFbRaR"
      }
    },
    {
      "cell_type": "code",
      "source": [
        "def is_prime(n):\n",
        "  if n<=2:\n",
        "    return False\n",
        "  for i in range(2,int(n**0.5)+1):\n",
        "    if n%i==0:\n",
        "      return False\n",
        "  return True\n",
        "is_prime(37)\n"
      ],
      "metadata": {
        "colab": {
          "base_uri": "https://localhost:8080/"
        },
        "id": "-BTmBVQRaxaK",
        "outputId": "23ad6d61-da78-4251-dc61-0d073bbd3ce6"
      },
      "execution_count": 150,
      "outputs": [
        {
          "output_type": "execute_result",
          "data": {
            "text/plain": [
              "True"
            ]
          },
          "metadata": {},
          "execution_count": 150
        }
      ]
    },
    {
      "cell_type": "markdown",
      "source": [
        "#print pattern"
      ],
      "metadata": {
        "id": "zKVMq14uXJWA"
      }
    },
    {
      "cell_type": "code",
      "source": [
        "for i in range(1,5):\n",
        "  for j in range(1,i+1):\n",
        "    print(j,end=' ')\n",
        "  print()\n"
      ],
      "metadata": {
        "colab": {
          "base_uri": "https://localhost:8080/"
        },
        "id": "xD9KrCXhW0W8",
        "outputId": "66dc9d54-87e0-40f9-a77a-561f029b870a"
      },
      "execution_count": 148,
      "outputs": [
        {
          "output_type": "stream",
          "name": "stdout",
          "text": [
            "1 \n",
            "1 2 \n",
            "1 2 3 \n",
            "1 2 3 4 \n"
          ]
        }
      ]
    },
    {
      "cell_type": "code",
      "source": [
        "def print_pattern(n):\n",
        "  for i in range(n,0,-1):\n",
        "    for j in range(1,i+1):\n",
        "      print(j,end=\" \")\n",
        "    print()\n",
        "print_pattern(5)"
      ],
      "metadata": {
        "colab": {
          "base_uri": "https://localhost:8080/"
        },
        "id": "TL0pj5gBXp04",
        "outputId": "7a26315b-d900-45f5-e2a7-4d0a6202dbb2"
      },
      "execution_count": 147,
      "outputs": [
        {
          "output_type": "stream",
          "name": "stdout",
          "text": [
            "1 2 3 4 5 \n",
            "1 2 3 4 \n",
            "1 2 3 \n",
            "1 2 \n",
            "1 \n"
          ]
        }
      ]
    },
    {
      "cell_type": "markdown",
      "source": [
        "#positional and keyward argument"
      ],
      "metadata": {
        "id": "hcJ3Yo_ZRu8b"
      }
    },
    {
      "cell_type": "code",
      "source": [
        "def calculate_rectangle_area(length, width):\n",
        "    area = length * width\n",
        "    return area\n",
        "\n",
        "# Using positional arguments\n",
        "area_pos = calculate_rectangle_area(5, 3)  # Length = 5, Width = 3\n",
        "print(\"Area using positional arguments:\", area_pos)\n",
        "\n",
        "# Using keyword arguments\n",
        "area_kw = calculate_rectangle_area(width=4, length=6)  # Length = 6, Width = 4\n",
        "print(\"Area using keyword arguments:\", area_kw)\n"
      ],
      "metadata": {
        "colab": {
          "base_uri": "https://localhost:8080/"
        },
        "id": "_OlqK4E0QKQ6",
        "outputId": "59c3fbe2-882c-4bdb-b32d-fa5155c8d9a5"
      },
      "execution_count": 139,
      "outputs": [
        {
          "output_type": "stream",
          "name": "stdout",
          "text": [
            "Area using positional arguments: 15\n",
            "Area using keyword arguments: 24\n"
          ]
        }
      ]
    },
    {
      "cell_type": "code",
      "source": [
        "def hello(*args,**kwargs):\n",
        "  print(args) #pos ,tuple\n",
        "  print(kwargs) #keyward ,dict\n",
        "hello('m','das',age=24,dob=25)"
      ],
      "metadata": {
        "colab": {
          "base_uri": "https://localhost:8080/"
        },
        "id": "cvmr1N2sQ4Sx",
        "outputId": "34432db0-ec50-4494-bb55-d365f34cba34"
      },
      "execution_count": 141,
      "outputs": [
        {
          "output_type": "stream",
          "name": "stdout",
          "text": [
            "('m', 'das')\n",
            "{'age': 24, 'dob': 25}\n"
          ]
        }
      ]
    },
    {
      "cell_type": "markdown",
      "source": [
        "#example of multiple inheritance"
      ],
      "metadata": {
        "id": "BmT5TK3eR081"
      }
    },
    {
      "cell_type": "code",
      "source": [
        "class Father():\n",
        "  def skils(self):\n",
        "    print('coding')\n",
        "class mother():\n",
        "  def skils(self):\n",
        "    print('cooking')\n",
        "class child(Father,mother):\n",
        "  def skils(self):\n",
        "    Father.skils(self)\n",
        "    mother.skils(self)\n",
        "    print('play')\n",
        "c=child()\n",
        "c.skils()"
      ],
      "metadata": {
        "colab": {
          "base_uri": "https://localhost:8080/"
        },
        "id": "1rmuXgVsMAl_",
        "outputId": "2095a2d4-8f86-4305-d478-e3c81234eb56"
      },
      "execution_count": 126,
      "outputs": [
        {
          "output_type": "stream",
          "name": "stdout",
          "text": [
            "coding\n",
            "cooking\n",
            "play\n"
          ]
        }
      ]
    },
    {
      "cell_type": "markdown",
      "source": [
        "#deep copy and shallow copy"
      ],
      "metadata": {
        "id": "_E8RtNmkR53Q"
      }
    },
    {
      "cell_type": "code",
      "source": [
        "lst1=[1,2,3,4]\n",
        "lst2=lst1.copy()\n",
        "lst2[1]=1000\n",
        "lst2,lst1 ### In a normal list shallow ===deep copy"
      ],
      "metadata": {
        "colab": {
          "base_uri": "https://localhost:8080/"
        },
        "id": "MT9KXpruNaWN",
        "outputId": "2b08eb27-adfc-44e4-9675-d2cca44e0bbc"
      },
      "execution_count": 133,
      "outputs": [
        {
          "output_type": "execute_result",
          "data": {
            "text/plain": [
              "([1, 1000, 3, 4], [1, 2, 3, 4])"
            ]
          },
          "metadata": {},
          "execution_count": 133
        }
      ]
    },
    {
      "cell_type": "code",
      "source": [
        "lst1=[[1,2,3,4],[5,6,7,8]]\n",
        "lst2=lst1.copy()\n",
        "lst1[1][0]=100\n",
        "lst1"
      ],
      "metadata": {
        "colab": {
          "base_uri": "https://localhost:8080/"
        },
        "id": "nWOKycmyOURO",
        "outputId": "52b4e180-98c9-41ed-faa6-83ad617513a4"
      },
      "execution_count": 134,
      "outputs": [
        {
          "output_type": "execute_result",
          "data": {
            "text/plain": [
              "[[1, 2, 3, 4], [100, 6, 7, 8]]"
            ]
          },
          "metadata": {},
          "execution_count": 134
        }
      ]
    },
    {
      "cell_type": "code",
      "source": [
        "lst2 #in shallow copy if changes l1 value , l2 value will also change"
      ],
      "metadata": {
        "colab": {
          "base_uri": "https://localhost:8080/"
        },
        "id": "JSeMVnJSOdnW",
        "outputId": "426ed9c5-2b51-4cd8-9443-3e5c399c57b1"
      },
      "execution_count": 136,
      "outputs": [
        {
          "output_type": "execute_result",
          "data": {
            "text/plain": [
              "[[1, 2, 3, 4], [100, 6, 7, 8]]"
            ]
          },
          "metadata": {},
          "execution_count": 136
        }
      ]
    },
    {
      "cell_type": "code",
      "source": [
        "import copy\n",
        "lst1=[[1,2,3],[3,4,5,],[5,6,7]]\n",
        "lst2=copy.deepcopy(lst1)\n",
        "lst2[1][0]=100\n",
        "lst2 #in deep copy l2 value change but l1 value will not change."
      ],
      "metadata": {
        "colab": {
          "base_uri": "https://localhost:8080/"
        },
        "id": "36mFp1S1OgFx",
        "outputId": "46886193-abe7-4ee1-efc5-1420a6b746d0"
      },
      "execution_count": 137,
      "outputs": [
        {
          "output_type": "execute_result",
          "data": {
            "text/plain": [
              "[[1, 2, 3], [100, 4, 5], [5, 6, 7]]"
            ]
          },
          "metadata": {},
          "execution_count": 137
        }
      ]
    },
    {
      "cell_type": "code",
      "source": [
        "lst1"
      ],
      "metadata": {
        "colab": {
          "base_uri": "https://localhost:8080/"
        },
        "id": "3TSK2HzhO4s-",
        "outputId": "dc28af66-246b-4d2b-ed16-a438d7b9a43c"
      },
      "execution_count": 138,
      "outputs": [
        {
          "output_type": "execute_result",
          "data": {
            "text/plain": [
              "[[1, 2, 3], [3, 4, 5], [5, 6, 7]]"
            ]
          },
          "metadata": {},
          "execution_count": 138
        }
      ]
    },
    {
      "cell_type": "markdown",
      "source": [
        "#play with string"
      ],
      "metadata": {
        "id": "lMYjzGHSR-sQ"
      }
    },
    {
      "cell_type": "code",
      "source": [
        "a='ashwanth'\n",
        "a=a[0]+a[1].capitalize()+a[2:]\n",
        "a"
      ],
      "metadata": {
        "colab": {
          "base_uri": "https://localhost:8080/",
          "height": 36
        },
        "id": "KCKg0-0TkCNf",
        "outputId": "9cf292b2-19e9-4505-cf22-27e5e5175c5d"
      },
      "execution_count": 53,
      "outputs": [
        {
          "output_type": "execute_result",
          "data": {
            "text/plain": [
              "'aShwanth'"
            ],
            "application/vnd.google.colaboratory.intrinsic+json": {
              "type": "string"
            }
          },
          "metadata": {},
          "execution_count": 53
        }
      ]
    },
    {
      "cell_type": "code",
      "source": [
        "a='ashwanth'\n",
        "a=a[:2]+a[2].capitalize()+a[3:]\n",
        "a\n"
      ],
      "metadata": {
        "colab": {
          "base_uri": "https://localhost:8080/",
          "height": 36
        },
        "id": "8lXaXnefkZk3",
        "outputId": "9eb4f307-ba1f-41b1-ee64-c194c266f92d"
      },
      "execution_count": 54,
      "outputs": [
        {
          "output_type": "execute_result",
          "data": {
            "text/plain": [
              "'asHwanth'"
            ],
            "application/vnd.google.colaboratory.intrinsic+json": {
              "type": "string"
            }
          },
          "metadata": {},
          "execution_count": 54
        }
      ]
    },
    {
      "cell_type": "code",
      "source": [
        "a='ashwanth'\n",
        "a=a[:3]+a[3].capitalize()+a[4:]\n",
        "a"
      ],
      "metadata": {
        "colab": {
          "base_uri": "https://localhost:8080/",
          "height": 36
        },
        "id": "o0f4TpIEkryD",
        "outputId": "1bd5cd18-aed7-4ffd-8f0b-bfb15ed511fd"
      },
      "execution_count": 55,
      "outputs": [
        {
          "output_type": "execute_result",
          "data": {
            "text/plain": [
              "'ashWanth'"
            ],
            "application/vnd.google.colaboratory.intrinsic+json": {
              "type": "string"
            }
          },
          "metadata": {},
          "execution_count": 55
        }
      ]
    },
    {
      "cell_type": "code",
      "source": [
        "a = 'ashwanth'\n",
        "a = a[:4] + a[4].capitalize() + a[5:]\n",
        "print(a)"
      ],
      "metadata": {
        "colab": {
          "base_uri": "https://localhost:8080/"
        },
        "id": "QGF25NmBdguG",
        "outputId": "5f355862-4f96-470b-b515-7ff7bef0b774"
      },
      "execution_count": 39,
      "outputs": [
        {
          "output_type": "stream",
          "name": "stdout",
          "text": [
            "ashwAnth\n"
          ]
        }
      ]
    },
    {
      "cell_type": "code",
      "source": [
        "a = 'ashwanth'\n",
        "a = a[:5] + a[5].capitalize() + a[6:]\n",
        "print(a)"
      ],
      "metadata": {
        "colab": {
          "base_uri": "https://localhost:8080/"
        },
        "id": "KZCL7mqwk6P-",
        "outputId": "b8cc4365-41fa-40cc-a539-b134fb8a2692"
      },
      "execution_count": 56,
      "outputs": [
        {
          "output_type": "stream",
          "name": "stdout",
          "text": [
            "ashwaNth\n"
          ]
        }
      ]
    },
    {
      "cell_type": "code",
      "source": [
        "a = 'ashwanth'\n",
        "a = a[:6] + a[6].capitalize() + a[7:]\n",
        "print(a)"
      ],
      "metadata": {
        "colab": {
          "base_uri": "https://localhost:8080/"
        },
        "id": "e1cTvoWHlNwR",
        "outputId": "12b4e110-106f-4fda-dbbb-747c11435be0"
      },
      "execution_count": 57,
      "outputs": [
        {
          "output_type": "stream",
          "name": "stdout",
          "text": [
            "ashwanTh\n"
          ]
        }
      ]
    },
    {
      "cell_type": "code",
      "source": [
        "a = 'ashwanth'\n",
        "a = a[:7] + a[7].capitalize() + a[8:]\n",
        "print(a)"
      ],
      "metadata": {
        "colab": {
          "base_uri": "https://localhost:8080/"
        },
        "id": "z9dO-uWqlWOp",
        "outputId": "9ad11de1-db06-4f6d-99f4-4ddb32cd1ed3"
      },
      "execution_count": 58,
      "outputs": [
        {
          "output_type": "stream",
          "name": "stdout",
          "text": [
            "ashwantH\n"
          ]
        }
      ]
    },
    {
      "cell_type": "code",
      "source": [
        "\n",
        "a = 'anwesha'\n",
        "modified_a = a[0] + a[1].upper() + a[2:]\n",
        "print(\"Original:\", a)\n",
        "print(\"Modified:\", modified_a)\n"
      ],
      "metadata": {
        "colab": {
          "base_uri": "https://localhost:8080/"
        },
        "id": "siHLP7Bog8XO",
        "outputId": "173c9e69-f8db-44c2-f8f7-050a8eb67b90"
      },
      "execution_count": 46,
      "outputs": [
        {
          "output_type": "stream",
          "name": "stdout",
          "text": [
            "Original: anwesha\n",
            "Modified: aNwesha\n"
          ]
        }
      ]
    },
    {
      "cell_type": "code",
      "source": [
        "a = 'anwesha'\n",
        "modified_a = a[:2] + a[2].upper() + a[3:]\n",
        "print(\"a =\", modified_a)\n"
      ],
      "metadata": {
        "colab": {
          "base_uri": "https://localhost:8080/"
        },
        "id": "ndTb4thFh4UG",
        "outputId": "7404a141-98e1-40b0-ef8f-9b7d80cf9c8c"
      },
      "execution_count": 48,
      "outputs": [
        {
          "output_type": "stream",
          "name": "stdout",
          "text": [
            "a = anWesha\n"
          ]
        }
      ]
    },
    {
      "cell_type": "code",
      "source": [
        "a = 'anwesha'\n",
        "modified_a = a[:3] + a[3].upper() + a[4:]\n",
        "print(\"a =\", modified_a)"
      ],
      "metadata": {
        "colab": {
          "base_uri": "https://localhost:8080/"
        },
        "id": "y1FHY_3WilOD",
        "outputId": "171602aa-6ce5-49ef-fa09-be9bf3302710"
      },
      "execution_count": 49,
      "outputs": [
        {
          "output_type": "stream",
          "name": "stdout",
          "text": [
            "a = anwEsha\n"
          ]
        }
      ]
    },
    {
      "cell_type": "code",
      "source": [
        "a = 'anwesha'\n",
        "modified_a = a[:4] + a[4].upper() + a[5:]\n",
        "print(\"a =\", modified_a)"
      ],
      "metadata": {
        "colab": {
          "base_uri": "https://localhost:8080/"
        },
        "id": "JBA0jAcli7px",
        "outputId": "32639900-f250-4ee7-8d60-84552e4096c7"
      },
      "execution_count": 50,
      "outputs": [
        {
          "output_type": "stream",
          "name": "stdout",
          "text": [
            "a = anweSha\n"
          ]
        }
      ]
    },
    {
      "cell_type": "code",
      "source": [
        "a = 'anwesha'\n",
        "modified_a = a[:5] + a[5].upper() + a[6:]\n",
        "print(\"a =\", modified_a)"
      ],
      "metadata": {
        "colab": {
          "base_uri": "https://localhost:8080/"
        },
        "id": "ro0qhTZ1jVLv",
        "outputId": "6d6e19ca-77da-4a14-c800-ba0cc5d15c7a"
      },
      "execution_count": 51,
      "outputs": [
        {
          "output_type": "stream",
          "name": "stdout",
          "text": [
            "a = anwesHa\n"
          ]
        }
      ]
    },
    {
      "cell_type": "code",
      "source": [
        "a = 'anwesha'\n",
        "modified_a = a[:6] + a[6].upper() + a[7:]\n",
        "print(\"a =\", modified_a)"
      ],
      "metadata": {
        "colab": {
          "base_uri": "https://localhost:8080/"
        },
        "id": "9m94VeczjhGd",
        "outputId": "bae92a13-3e52-4b7e-8d10-7317001d50c7"
      },
      "execution_count": 52,
      "outputs": [
        {
          "output_type": "stream",
          "name": "stdout",
          "text": [
            "a = anweshA\n"
          ]
        }
      ]
    },
    {
      "cell_type": "markdown",
      "source": [
        "#check armstrong or not"
      ],
      "metadata": {
        "id": "3tr8c4-ySFmb"
      }
    },
    {
      "cell_type": "code",
      "source": [
        "def arm_num(num):\n",
        "  num_str=str(num)\n",
        "  num_digits=len(num_str)\n",
        "  sum=0\n",
        "  for digit in num_str:\n",
        "    sum+=int(digit)**num_digits\n",
        "  if sum==num:\n",
        "    return True\n",
        "  else:\n",
        "    return False\n",
        "arm_num(1634)"
      ],
      "metadata": {
        "colab": {
          "base_uri": "https://localhost:8080/"
        },
        "id": "XeywsmvnmJvH",
        "outputId": "1c6381c3-1172-48b3-dc84-ea646c09635d"
      },
      "execution_count": 65,
      "outputs": [
        {
          "output_type": "execute_result",
          "data": {
            "text/plain": [
              "True"
            ]
          },
          "metadata": {},
          "execution_count": 65
        }
      ]
    },
    {
      "cell_type": "markdown",
      "source": [
        "#fibonacci sequence"
      ],
      "metadata": {
        "id": "nr_1wcISSJ8N"
      }
    },
    {
      "cell_type": "code",
      "source": [
        "def fibo(n):\n",
        "  if n<=1:\n",
        "    return n\n",
        "  else:\n",
        "    return fibo(n-1)+fibo(n-2)\n",
        "for i in range(10):\n",
        "  print(fibo(i))"
      ],
      "metadata": {
        "colab": {
          "base_uri": "https://localhost:8080/"
        },
        "id": "tsn-F-82n4lF",
        "outputId": "00f266b4-5023-405e-bb33-28245609c2f7"
      },
      "execution_count": 72,
      "outputs": [
        {
          "output_type": "stream",
          "name": "stdout",
          "text": [
            "0\n",
            "1\n",
            "1\n",
            "2\n",
            "3\n",
            "5\n",
            "8\n",
            "13\n",
            "21\n",
            "34\n"
          ]
        }
      ]
    },
    {
      "cell_type": "markdown",
      "source": [
        "#numpy brodcasing with example"
      ],
      "metadata": {
        "id": "0tYYUH84SQ1b"
      }
    },
    {
      "cell_type": "markdown",
      "source": [
        "# NumPy broadcasting is a powerful feature that allows element-wise operations on arrays of different shapes."
      ],
      "metadata": {
        "id": "FF1imNsjshQI"
      }
    },
    {
      "cell_type": "code",
      "source": [
        "import numpy as np\n",
        "a = np.array([1, 2, 3])\n",
        "b = 4\n",
        "c = a + b\n",
        "c"
      ],
      "metadata": {
        "colab": {
          "base_uri": "https://localhost:8080/"
        },
        "id": "m4qj_ZUWqkVu",
        "outputId": "4b9b37c3-39dd-438d-dd45-9c46e56adf1f"
      },
      "execution_count": 73,
      "outputs": [
        {
          "output_type": "execute_result",
          "data": {
            "text/plain": [
              "array([5, 6, 7])"
            ]
          },
          "metadata": {},
          "execution_count": 73
        }
      ]
    },
    {
      "cell_type": "markdown",
      "source": [
        "#example of vstack and h stack"
      ],
      "metadata": {
        "id": "idOQcI6dSalv"
      }
    },
    {
      "cell_type": "code",
      "source": [
        "import numpy as np\n",
        "\n",
        "a = np.array([1, 2, 3])\n",
        "b = np.array([4, 5, 6])\n",
        "\n",
        "c = np.vstack((a, b))\n",
        "print(c)"
      ],
      "metadata": {
        "colab": {
          "base_uri": "https://localhost:8080/"
        },
        "id": "C5FHhGcjtMc3",
        "outputId": "b38a7365-8b89-4060-f557-546386f4fd1d"
      },
      "execution_count": 74,
      "outputs": [
        {
          "output_type": "stream",
          "name": "stdout",
          "text": [
            "[[1 2 3]\n",
            " [4 5 6]]\n"
          ]
        }
      ]
    },
    {
      "cell_type": "code",
      "source": [
        "d = np.hstack((a, b))\n",
        "print(d)"
      ],
      "metadata": {
        "colab": {
          "base_uri": "https://localhost:8080/"
        },
        "id": "eMyR5TmTtaai",
        "outputId": "2a2a15de-4f1a-4ccf-eea4-1a6ada2c6f0d"
      },
      "execution_count": 75,
      "outputs": [
        {
          "output_type": "stream",
          "name": "stdout",
          "text": [
            "[1 2 3 4 5 6]\n"
          ]
        }
      ]
    },
    {
      "cell_type": "markdown",
      "source": [
        "# why pair plot we will use in multivariable data analysis\n",
        "\n",
        "# Pair plots visualize relationships between every pair of variables in a dataset at once, revealing patterns and correlations that might otherwise be hidden."
      ],
      "metadata": {
        "id": "fQQmkExXutjV"
      }
    },
    {
      "cell_type": "markdown",
      "source": [
        "\n",
        "# the SQL query to select names starting and ending with the letter \"a\":\n",
        "\n",
        "#SELECT name\n",
        "# FROM emp\n",
        "# WHERE name LIKE 'a%a';"
      ],
      "metadata": {
        "id": "BT1wRSdxvRn6"
      }
    },
    {
      "cell_type": "markdown",
      "source": [
        "#what is doc string"
      ],
      "metadata": {
        "id": "TVkaLv-ySoT5"
      }
    },
    {
      "cell_type": "markdown",
      "source": [
        "# Docstrings are concise, descriptive comments attached to Python functions, classes, or modules, explaining their purpose and usage within a single line."
      ],
      "metadata": {
        "id": "17geakp3wlkh"
      }
    },
    {
      "cell_type": "code",
      "source": [
        "def add_numbers(x, y):\n",
        "    \"\"\"Adds two numbers together.\"\"\"\n",
        "    return x + y"
      ],
      "metadata": {
        "id": "qqq7MchQtkEg"
      },
      "execution_count": 76,
      "outputs": []
    },
    {
      "cell_type": "code",
      "source": [
        "print(add_numbers.__doc__)"
      ],
      "metadata": {
        "colab": {
          "base_uri": "https://localhost:8080/"
        },
        "id": "ShRBwyXQw_L8",
        "outputId": "96bb3ede-b491-4703-f098-ce31b00dcb2b"
      },
      "execution_count": 77,
      "outputs": [
        {
          "output_type": "stream",
          "name": "stdout",
          "text": [
            "Adds two numbers together.\n"
          ]
        }
      ]
    },
    {
      "cell_type": "markdown",
      "source": [
        "#flatten() and ravel()"
      ],
      "metadata": {
        "id": "5zzVSnOgS6pK"
      }
    },
    {
      "cell_type": "code",
      "source": [
        "import numpy as np\n",
        "x=np.array([[1,2,3],\n",
        " [4,5,6]])\n",
        "y=np.ravel(x)\n",
        "y"
      ],
      "metadata": {
        "colab": {
          "base_uri": "https://localhost:8080/"
        },
        "id": "Qi5Bs4CMyRax",
        "outputId": "e1fade74-b234-4209-abdd-4a06bf22ca75"
      },
      "execution_count": 96,
      "outputs": [
        {
          "output_type": "execute_result",
          "data": {
            "text/plain": [
              "array([1, 2, 3, 4, 5, 6])"
            ]
          },
          "metadata": {},
          "execution_count": 96
        }
      ]
    },
    {
      "cell_type": "code",
      "source": [
        "y[0]=90\n",
        "y"
      ],
      "metadata": {
        "colab": {
          "base_uri": "https://localhost:8080/"
        },
        "id": "fRfirVprztu0",
        "outputId": "c078a12c-fb16-4f6a-a0fa-c74f9e6023f3"
      },
      "execution_count": 97,
      "outputs": [
        {
          "output_type": "execute_result",
          "data": {
            "text/plain": [
              "array([90,  2,  3,  4,  5,  6])"
            ]
          },
          "metadata": {},
          "execution_count": 97
        }
      ]
    },
    {
      "cell_type": "code",
      "source": [
        "x"
      ],
      "metadata": {
        "colab": {
          "base_uri": "https://localhost:8080/"
        },
        "id": "cWSGeXc2z4T2",
        "outputId": "53896028-0caf-46e2-da1b-5eedc1b06801"
      },
      "execution_count": 98,
      "outputs": [
        {
          "output_type": "execute_result",
          "data": {
            "text/plain": [
              "array([[90,  2,  3],\n",
              "       [ 4,  5,  6]])"
            ]
          },
          "metadata": {},
          "execution_count": 98
        }
      ]
    },
    {
      "cell_type": "code",
      "source": [
        "import numpy as np\n",
        "x=np.array([[1,2,3],\n",
        " [4,5,6]])\n",
        "y=x.flatten()\n",
        "y"
      ],
      "metadata": {
        "colab": {
          "base_uri": "https://localhost:8080/"
        },
        "id": "DJODHYuhz5sa",
        "outputId": "583f0792-7bbe-4110-d74e-42945d7606a8"
      },
      "execution_count": 100,
      "outputs": [
        {
          "output_type": "execute_result",
          "data": {
            "text/plain": [
              "array([1, 2, 3, 4, 5, 6])"
            ]
          },
          "metadata": {},
          "execution_count": 100
        }
      ]
    },
    {
      "cell_type": "code",
      "source": [
        "y[0]=89\n",
        "y"
      ],
      "metadata": {
        "colab": {
          "base_uri": "https://localhost:8080/"
        },
        "id": "Gfc9uqVv1V8Y",
        "outputId": "73af4c06-8173-4d20-e25c-bc320e009a8d"
      },
      "execution_count": 101,
      "outputs": [
        {
          "output_type": "execute_result",
          "data": {
            "text/plain": [
              "array([89,  2,  3,  4,  5,  6])"
            ]
          },
          "metadata": {},
          "execution_count": 101
        }
      ]
    },
    {
      "cell_type": "code",
      "source": [
        "x"
      ],
      "metadata": {
        "colab": {
          "base_uri": "https://localhost:8080/"
        },
        "id": "lXYjxSAI1s0u",
        "outputId": "732ecd7c-a7c4-4e3c-fab1-2858e9a95c84"
      },
      "execution_count": 102,
      "outputs": [
        {
          "output_type": "execute_result",
          "data": {
            "text/plain": [
              "array([[1, 2, 3],\n",
              "       [4, 5, 6]])"
            ]
          },
          "metadata": {},
          "execution_count": 102
        }
      ]
    },
    {
      "cell_type": "markdown",
      "source": [
        "\n",
        "#Memory usage\tHigher in flatten() so Because of memory point ravel() is better"
      ],
      "metadata": {
        "id": "ZDXfePHP2VoL"
      }
    },
    {
      "cell_type": "markdown",
      "source": [
        "#what is vectorization"
      ],
      "metadata": {
        "id": "bLZKbVOGTF2r"
      }
    },
    {
      "cell_type": "markdown",
      "source": [
        "#Vectorization in numpy is the process of applying single operation on multiple elements of an array at once\n",
        "#vectorized operation are faster and more efficient then performing the same operation on each element of an array using loop"
      ],
      "metadata": {
        "id": "v8e3VP7e5OSp"
      }
    },
    {
      "cell_type": "code",
      "source": [
        "import numpy as np\n",
        "a=np.array([1,2,3,4,5])\n",
        "result=a*2\n",
        "result"
      ],
      "metadata": {
        "colab": {
          "base_uri": "https://localhost:8080/"
        },
        "id": "2jBYFRe81tyA",
        "outputId": "81bcac22-aef4-451c-d62f-7f2b11eb3a91"
      },
      "execution_count": 103,
      "outputs": [
        {
          "output_type": "execute_result",
          "data": {
            "text/plain": [
              "array([ 2,  4,  6,  8, 10])"
            ]
          },
          "metadata": {},
          "execution_count": 103
        }
      ]
    },
    {
      "cell_type": "code",
      "source": [
        "arr1=np.array([1,2,3,4,5])\n",
        "arr2=np.array([2,3,4,5,6])\n",
        "result=arr2+arr1\n",
        "result"
      ],
      "metadata": {
        "colab": {
          "base_uri": "https://localhost:8080/"
        },
        "id": "1gOSyUOJ6JTr",
        "outputId": "f8d749f8-0f6c-4649-f59d-8f6f02e9c5c3"
      },
      "execution_count": 104,
      "outputs": [
        {
          "output_type": "execute_result",
          "data": {
            "text/plain": [
              "array([ 3,  5,  7,  9, 11])"
            ]
          },
          "metadata": {},
          "execution_count": 104
        }
      ]
    },
    {
      "cell_type": "code",
      "source": [
        "mat1=np.array([[1,2],[3,4]])\n",
        "mat2=np.array([[2,3],[4,5]])\n",
        "result=mat1*mat2\n",
        "result"
      ],
      "metadata": {
        "colab": {
          "base_uri": "https://localhost:8080/"
        },
        "id": "yzcUeAUy6rom",
        "outputId": "17078e3b-fc63-4436-c68a-2f402abffc9a"
      },
      "execution_count": 105,
      "outputs": [
        {
          "output_type": "execute_result",
          "data": {
            "text/plain": [
              "array([[ 2,  6],\n",
              "       [12, 20]])"
            ]
          },
          "metadata": {},
          "execution_count": 105
        }
      ]
    },
    {
      "cell_type": "markdown",
      "source": [
        "#find local maxima"
      ],
      "metadata": {
        "id": "2zhjPcxYTU7U"
      }
    },
    {
      "cell_type": "code",
      "source": [
        "def find_local_maxima(arr):\n",
        "  maxima_indices=[]\n",
        "  for i in range(1,len(arr)-1):\n",
        "    if arr[i] > arr[i - 1] and arr[i] > arr[i + 1]:\n",
        "      maxima_indices.append(i)\n",
        "  return maxima_indices\n",
        "import random\n",
        "random_arr=[random.randint(1,100) for _ in range(10)]\n",
        "local_maxima_indices=find_local_maxima(random_arr)\n",
        "print(local_maxima_indices)\n"
      ],
      "metadata": {
        "colab": {
          "base_uri": "https://localhost:8080/"
        },
        "id": "l5a0NEDh-Gyc",
        "outputId": "8277cb9e-255b-4b7f-cef8-b1a0209d41c1"
      },
      "execution_count": 123,
      "outputs": [
        {
          "output_type": "stream",
          "name": "stdout",
          "text": [
            "[3, 5, 7]\n"
          ]
        }
      ]
    },
    {
      "cell_type": "markdown",
      "source": [
        "#copy and view"
      ],
      "metadata": {
        "id": "N2MwTRloVbTt"
      }
    },
    {
      "cell_type": "code",
      "source": [
        "import numpy as np\n",
        "\n",
        "arr = np.array([1, 2, 3, 4, 5])\n",
        "arr_copy = arr.copy()\n",
        "\n",
        "arr_copy[0] = 100\n",
        "\n",
        "print(arr)\n",
        "print(arr_copy)\n"
      ],
      "metadata": {
        "colab": {
          "base_uri": "https://localhost:8080/"
        },
        "id": "ixVsLzoRVK0o",
        "outputId": "e7f85843-86d4-421e-c9a1-550cbececfe8"
      },
      "execution_count": 143,
      "outputs": [
        {
          "output_type": "stream",
          "name": "stdout",
          "text": [
            "[1 2 3 4 5]\n",
            "[100   2   3   4   5]\n"
          ]
        }
      ]
    },
    {
      "cell_type": "code",
      "source": [
        "import numpy as np\n",
        "\n",
        "arr = np.array([1, 2, 3, 4, 5])\n",
        "arr_view = arr.view()\n",
        "\n",
        "arr_view[0] = 100\n",
        "\n",
        "print(arr)\n",
        "print(arr_view)\n"
      ],
      "metadata": {
        "colab": {
          "base_uri": "https://localhost:8080/"
        },
        "id": "ECV5dQwxVQ_g",
        "outputId": "4c037883-aadc-4b42-854f-d5a51d00d1a1"
      },
      "execution_count": 144,
      "outputs": [
        {
          "output_type": "stream",
          "name": "stdout",
          "text": [
            "[100   2   3   4   5]\n",
            "[100   2   3   4   5]\n"
          ]
        }
      ]
    },
    {
      "cell_type": "markdown",
      "source": [
        "#datatypes of pandas"
      ],
      "metadata": {
        "id": "i70eLE0CTaCw"
      }
    },
    {
      "cell_type": "markdown",
      "source": [
        "\n",
        "# Here are the primary datatypes used in pandas:\n",
        "\n",
        "# Numerical Datatypes:\n",
        "\n",
        "# int64: Integers with 64-bit precision.\n",
        "# float64: Floating-point numbers with 64-bit precision.\n",
        "# bool: Boolean values (True or False).\n",
        "# Textual Datatypes:\n",
        "\n",
        "# object: Generic string type for unstructured text data.\n",
        "# str: String type with more efficient storage and operations for newer pandas versions.\n",
        "# Date and Time Datatypes:\n",
        "\n",
        "# datetime64[ns]: Datetime values with nanosecond precision.\n",
        "# timedelta[ns]: Time differences with nanosecond precision.\n",
        "# Categorical Datatypes:\n",
        "\n",
        "# category: Categorical data for efficient storage and analysis of variables with limited, defined categories.\n",
        "# Other Datatypes:\n",
        "\n",
        "# Period: Datatype for representing timespans like \"Q2 2022\".\n",
        "# Interval: Datatype for representing intervals of time or values."
      ],
      "metadata": {
        "id": "c0tKCuUVDnPz"
      }
    },
    {
      "cell_type": "markdown",
      "source": [
        "#when we use line plot and scatter plot"
      ],
      "metadata": {
        "id": "VI6UNHznThhq"
      }
    },
    {
      "cell_type": "markdown",
      "source": [
        "# Line plots for trends and patterns, scatter plots for relationships and groupings."
      ],
      "metadata": {
        "id": "hIpzbIfGFC6n"
      }
    },
    {
      "cell_type": "markdown",
      "source": [
        "# Standardization & Normalization"
      ],
      "metadata": {
        "id": "7XfkF2KMTrSr"
      }
    },
    {
      "cell_type": "markdown",
      "source": [
        "![image.png](data:image/png;base64,iVBORw0KGgoAAAANSUhEUgAAAFoAAAAoCAIAAADxIHqfAAABcUlEQVRoBe2Y67LDIAiEff+XttMxYRasGO+a0j8HcnRdPtFenLcXEHAQW+gNB2sCw2E4GAGWWHdsgMPdL+/9HV5/mbvpybLucI4tLdLpHK4FmafJJggBBZMNxMutx9HOAhUwjqvNPlmMo9F9KA9FMM4WHw/YGoe4ZUP6owa4hk7FEXw3un9JdxAFCuI9f/4ERTB+rkAjFxwWdIwxeSoNSIROEz0pliqd0DKe7oIgQmm1e6GDH+rqfC7ojjqjyqxGmqhsOJDGK37vsO5gW9ox0Q4LXnUdd6Cj++5SGRxhvRQLwYvS7i47CpJJEVyVZldKschOxAFi7TkpGngYa90R3sYVoVRVypTl/9I9azi69MXy+osMJHEgC4yL1I8brOHAvjqusDrDSRx1cqfPMhxsBw3HUTjw/ppwo2/dHVQ/BWwrByT74hAIRDoAxVfScDCwhuMQHOIb078flrBr9M7CNnFYsu9hGVayJmw4GB3DwXB8ACY1FR5qYIBKAAAAAElFTkSuQmCC)\n",
        "\n",
        "# Standardization transforms the data in a way that the mean of each feature becomes 0 and the standard deviation becomes 1."
      ],
      "metadata": {
        "id": "Tg3vunotGnqq"
      }
    },
    {
      "cell_type": "markdown",
      "source": [
        "![image.png](data:image/png;base64,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)\n",
        "\n"
      ],
      "metadata": {
        "id": "CvqYag6gHTVZ"
      }
    },
    {
      "cell_type": "markdown",
      "source": [
        "# Normalization scales the data to a fixed range, typically between 0 and 1 (Min-Max scaling), or sometimes between -1 and 1. It brings all the feature values within a similar range."
      ],
      "metadata": {
        "id": "tyW5hUf7Hc-G"
      }
    },
    {
      "cell_type": "markdown",
      "source": [
        "# Normalization is more affected by outliers than standardization because it scales based on the range, which outliers can stretch."
      ],
      "metadata": {
        "id": "dNkYP8IOHs1M"
      }
    },
    {
      "cell_type": "markdown",
      "source": [
        "\n",
        "# Standardize when distribution matters (like for machine learning), normalize when scale matters (like for image processing)."
      ],
      "metadata": {
        "id": "lpbyoA5XIGtq"
      }
    },
    {
      "cell_type": "markdown",
      "source": [
        "\n",
        "# Here's a concise explanation of the standard normal distribution and its variance:\n",
        "\n",
        "- Standard Normal Distribution (SND):\n",
        "- A bell-shaped distribution with a mean of 0 and a variance of 1.\n",
        "- Widely used as a reference point for other normal distributions.\n",
        "- Its curve is perfectly symmetrical around the mean.\n",
        "\n",
        "- Variance:\n",
        "- A measure of how spread out the data is from the mean.\n",
        "- SND's variance of 1 means data points are likely to fall within 1 standard deviation of the mean (68% probability)."
      ],
      "metadata": {
        "id": "2qTmkgN-aliZ"
      }
    },
    {
      "cell_type": "markdown",
      "source": [
        "#why we use ball tree in knn"
      ],
      "metadata": {
        "id": "u5Rcg4wuUFjF"
      }
    },
    {
      "cell_type": "markdown",
      "source": [
        "\n",
        "# Ball trees partition and prune space with spheres, reducing distance computations and speeding up KNN by efficiently navigating high-dimensional data while sharing distance calculations across branches."
      ],
      "metadata": {
        "id": "4jYk99SFJIft"
      }
    },
    {
      "cell_type": "markdown",
      "source": [
        "#kernel in svm"
      ],
      "metadata": {
        "id": "VHoVCSg7UWi1"
      }
    },
    {
      "cell_type": "markdown",
      "source": [
        "# Different kernels in SVMs serve various purposes and handle different types of data complexity:\n",
        "\n",
        "# Linear Kernel: Suitable for linearly separable data, efficient and interpretable.\n",
        "# Polynomial Kernel: Captures non-linear relationships through polynomial expansion, good for smooth curves but prone to overfitting.\n",
        "# Gaussian Kernel: Handles complex, non-linear data effectively, works well with diverse data shapes, but computationally expensive.\n",
        "# Sigmoid Kernel: Similar to Gaussian kernel but bounded output, can handle noisy data, but sensitive to parameter tuning.\n",
        "# Choosing the right kernel depends on data characteristics, desired learning complexity, and computational resources."
      ],
      "metadata": {
        "id": "RAIyqWdSJ6Ls"
      }
    },
    {
      "cell_type": "markdown",
      "source": [
        "#why we use k mans ++"
      ],
      "metadata": {
        "id": "-AByXWb2Uu5d"
      }
    },
    {
      "cell_type": "markdown",
      "source": [
        "\n",
        "# K-means++ offers improved initial cluster centers for potentially better results, especially on large/complex data, at a slight speed cost."
      ],
      "metadata": {
        "id": "mi_Bx7vLLbNB"
      }
    },
    {
      "cell_type": "markdown",
      "source": [
        "#inception architecture"
      ],
      "metadata": {
        "id": "fuMdolYLYtbL"
      }
    },
    {
      "cell_type": "markdown",
      "source": [
        "![image.png](data:image/png;base64,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)"
      ],
      "metadata": {
        "id": "s8-OxBdzYrBC"
      }
    },
    {
      "cell_type": "markdown",
      "source": [
        "# Softmax in attention:\n",
        "\n",
        "# Turns scores into attention weights: Tells us how important each input part is, like a spotlight focused on relevant bits.\n",
        "# Makes the model focus: Combines input parts based on importance, like building a sentence from key words.\n",
        "# Smooth gradients for learning: Helps the model adjust its focus better during training.\n",
        "# Provides insights: Shows us where the model is looking, making it easier to understand its decisions."
      ],
      "metadata": {
        "id": "s2iTQM4xZYyz"
      }
    },
    {
      "cell_type": "code",
      "source": [],
      "metadata": {
        "id": "YZPDCHrWAoJD"
      },
      "execution_count": null,
      "outputs": []
    }
  ]
}