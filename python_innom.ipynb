{
  "nbformat": 4,
  "nbformat_minor": 0,
  "metadata": {
    "colab": {
      "provenance": []
    },
    "kernelspec": {
      "name": "python3",
      "display_name": "Python 3"
    },
    "language_info": {
      "name": "python"
    }
  },
  "cells": [
    {
      "cell_type": "code",
      "execution_count": null,
      "metadata": {
        "colab": {
          "base_uri": "https://localhost:8080/"
        },
        "id": "nGBJ1rlnOXRi",
        "outputId": "ef248f9c-8d8e-4db5-a984-0da7259b53d3"
      },
      "outputs": [
        {
          "output_type": "stream",
          "name": "stdout",
          "text": [
            "2\n"
          ]
        }
      ],
      "source": [
        "a,b=5,2\n",
        "c=a//b\n",
        "print(c)"
      ]
    },
    {
      "cell_type": "code",
      "source": [
        "c=a%b\n",
        "print(c)"
      ],
      "metadata": {
        "colab": {
          "base_uri": "https://localhost:8080/"
        },
        "id": "2kYoVlzCOfRZ",
        "outputId": "310c84b1-e2c8-4d9c-d0d0-a919b13f5fee"
      },
      "execution_count": null,
      "outputs": [
        {
          "output_type": "stream",
          "name": "stdout",
          "text": [
            "1\n"
          ]
        }
      ]
    },
    {
      "cell_type": "code",
      "source": [
        "c=a/b\n",
        "print(c)"
      ],
      "metadata": {
        "colab": {
          "base_uri": "https://localhost:8080/"
        },
        "id": "3Y_TjFVcOwno",
        "outputId": "3162ca2a-e639-465a-a19e-2aacd713185e"
      },
      "execution_count": null,
      "outputs": [
        {
          "output_type": "stream",
          "name": "stdout",
          "text": [
            "2.5\n"
          ]
        }
      ]
    },
    {
      "cell_type": "markdown",
      "source": [
        "# A lambda function in Python is indeed anonymous"
      ],
      "metadata": {
        "id": "mV1-IO9LRGph"
      }
    },
    {
      "cell_type": "code",
      "source": [
        "numbers=[8,7,6,9]\n",
        "odd_num=list(filter(lambda x:x%2!=0,numbers))\n",
        "print(odd_num)"
      ],
      "metadata": {
        "colab": {
          "base_uri": "https://localhost:8080/"
        },
        "id": "CrUgNB9CPgmC",
        "outputId": "102b9891-a178-4a35-b3f9-339e707e8100"
      },
      "execution_count": null,
      "outputs": [
        {
          "output_type": "stream",
          "name": "stdout",
          "text": [
            "[7, 9]\n"
          ]
        }
      ]
    },
    {
      "cell_type": "code",
      "source": [
        "numbers=[6,8,3,7]\n",
        "eve_num=list(filter(lambda x:x%2==0,numbers))\n",
        "print(eve_num)"
      ],
      "metadata": {
        "colab": {
          "base_uri": "https://localhost:8080/"
        },
        "id": "GEsZp7hrdOx1",
        "outputId": "ba91755e-293e-4128-ff83-68c3a1fdd99c"
      },
      "execution_count": 25,
      "outputs": [
        {
          "output_type": "stream",
          "name": "stdout",
          "text": [
            "[6, 8]\n"
          ]
        }
      ]
    },
    {
      "cell_type": "code",
      "source": [
        "def rev_str(x):\n",
        "  return x[::-1]\n",
        "rev_str(\"python\")"
      ],
      "metadata": {
        "colab": {
          "base_uri": "https://localhost:8080/",
          "height": 35
        },
        "id": "zSShO_vxO10c",
        "outputId": "1a50c002-9d05-4883-b6e4-61a3d5d03248"
      },
      "execution_count": 26,
      "outputs": [
        {
          "output_type": "execute_result",
          "data": {
            "text/plain": [
              "'nohtyp'"
            ],
            "application/vnd.google.colaboratory.intrinsic+json": {
              "type": "string"
            }
          },
          "metadata": {},
          "execution_count": 26
        }
      ]
    },
    {
      "cell_type": "markdown",
      "source": [
        "# Exception handling allows to gracefully handle unexpected errors during program execution, preventing crashes and ensuring the program can continue running or provide meaningful error messages to users.\n",
        "#List out some exception in python\n",
        "#SyntaxError\n",
        "#IndentationError\n",
        "#ZeroDivisionError"
      ],
      "metadata": {
        "id": "krIkcIPMR21U"
      }
    },
    {
      "cell_type": "code",
      "source": [
        "class CustomException(Exception):\n",
        "  def __init__(self,message=\"This is a custom exception\"):\n",
        "    self.message=message\n",
        "    super().__init__(self.message)\n",
        "try:\n",
        "  raise CustomException (\"This is custom Error message\")\n",
        "except CustomException as e:\n",
        "  print(f'Caught an exception:{e}')"
      ],
      "metadata": {
        "colab": {
          "base_uri": "https://localhost:8080/"
        },
        "id": "UnUJTl0QfTgj",
        "outputId": "cccf4ab3-96bb-43a8-9959-77fa86305525"
      },
      "execution_count": 27,
      "outputs": [
        {
          "output_type": "stream",
          "name": "stdout",
          "text": [
            "Caught an exception:This is custom Error message\n"
          ]
        }
      ]
    },
    {
      "cell_type": "code",
      "source": [
        "def print_pattern(n):\n",
        "  for i in range(n,0,-1):\n",
        "    for j in range(1,i+1):\n",
        "      print(j,end=\" \")\n",
        "    print()\n",
        "print_pattern(5)"
      ],
      "metadata": {
        "colab": {
          "base_uri": "https://localhost:8080/"
        },
        "id": "EimsEVVWgbHG",
        "outputId": "70482bad-bb57-40d7-c73d-a2a31b044f1e"
      },
      "execution_count": 28,
      "outputs": [
        {
          "output_type": "stream",
          "name": "stdout",
          "text": [
            "1 2 3 4 5 \n",
            "1 2 3 4 \n",
            "1 2 3 \n",
            "1 2 \n",
            "1 \n"
          ]
        }
      ]
    },
    {
      "cell_type": "code",
      "source": [
        "def find_non_repeat(input_string):\n",
        "  freq_dict={}\n",
        "  for char in input_string:\n",
        "    if char in freq_dict:\n",
        "      freq_dict[char]+=1\n",
        "    else:\n",
        "      freq_dict[char]=1\n",
        "  non_repeat=\"\"\n",
        "  for char in input_string:\n",
        "    if freq_dict[char]==1:\n",
        "      non_repeat+=char\n",
        "  return non_repeat\n",
        "string=input(\"Enter a string\")\n",
        "result=find_non_repeat(string)\n",
        "print(result)"
      ],
      "metadata": {
        "colab": {
          "base_uri": "https://localhost:8080/"
        },
        "id": "ZAtZIkJ0iSNh",
        "outputId": "7d7576f4-f929-4d0b-be00-ba91d6285842"
      },
      "execution_count": 29,
      "outputs": [
        {
          "output_type": "stream",
          "name": "stdout",
          "text": [
            "Enter a stringInnomatics Research Lab\n",
            "IomtiRrhLb\n"
          ]
        }
      ]
    },
    {
      "cell_type": "code",
      "source": [
        "\n",
        "my_list = [1, 2, 3]\n",
        "my_list.append([8,9])\n",
        "print(my_list)\n"
      ],
      "metadata": {
        "colab": {
          "base_uri": "https://localhost:8080/"
        },
        "id": "uOKuXFqWYu5a",
        "outputId": "0b4e0f93-b9af-4db5-acf0-2f480476d1a0"
      },
      "execution_count": 30,
      "outputs": [
        {
          "output_type": "stream",
          "name": "stdout",
          "text": [
            "[1, 2, 3, [8, 9]]\n"
          ]
        }
      ]
    },
    {
      "cell_type": "code",
      "source": [
        "my_list = [1, 2, 3]\n",
        "my_list.extend([4, 5, 6])\n",
        "print(my_list)\n"
      ],
      "metadata": {
        "colab": {
          "base_uri": "https://localhost:8080/"
        },
        "id": "b9f2Zbk9Z46Y",
        "outputId": "027c99ed-b126-4c9d-baec-866df01be7b5"
      },
      "execution_count": 31,
      "outputs": [
        {
          "output_type": "stream",
          "name": "stdout",
          "text": [
            "[1, 2, 3, 4, 5, 6]\n"
          ]
        }
      ]
    },
    {
      "cell_type": "code",
      "source": [
        "class BankAccount:\n",
        "  def __init__(self):\n",
        "    self.Balance=0\n",
        "  def deposite(self,amount):\n",
        "    if amount>0:\n",
        "      self.Balance+=amount\n",
        "      print(f'Deposited:${amount}')\n",
        "    else:\n",
        "      print(\"Invalid Deposite\")\n",
        "  def Withdrawn(self,amount):\n",
        "    if 0<=amount<=self.Balance:\n",
        "      self.Balance-=amount\n",
        "      print(f\"withdrawn :${amount}\")\n",
        "    else:\n",
        "      print(\"Invalid withdrawal amount\")\n",
        "  def display(self):\n",
        "    print(f\"Available Balance :${self.Balance}\")\n",
        "ac=BankAccount()\n",
        "ac.deposite(1000)\n",
        "ac.display()\n",
        "ac.Withdrawn(500)\n",
        "ac.display()\n"
      ],
      "metadata": {
        "colab": {
          "base_uri": "https://localhost:8080/"
        },
        "id": "8VE8rHXKmuD8",
        "outputId": "3cb4f028-3c07-4e80-bcbc-974e10e7ca67"
      },
      "execution_count": 33,
      "outputs": [
        {
          "output_type": "stream",
          "name": "stdout",
          "text": [
            "Deposited:$1000\n",
            "Available Balance :$1000\n",
            "withdrawn :$500\n",
            "Available Balance :$500\n"
          ]
        }
      ]
    },
    {
      "cell_type": "code",
      "source": [
        "def find_largest_element(nums):\n",
        "  if not nums:\n",
        "    return \"List is empty\"\n",
        "  largest=nums[0]\n",
        "  for num in nums:\n",
        "    if num>largest:\n",
        "      largest=num\n",
        "  return largest\n",
        "numbers=[90,8,7,5]\n",
        "largest_element=find_largest_element(numbers)\n",
        "print(largest_element)"
      ],
      "metadata": {
        "colab": {
          "base_uri": "https://localhost:8080/"
        },
        "id": "O_r_P7tFz163",
        "outputId": "8dd0f2c7-eee5-40b8-b8a7-64ca40e9156e"
      },
      "execution_count": 35,
      "outputs": [
        {
          "output_type": "stream",
          "name": "stdout",
          "text": [
            "90\n"
          ]
        }
      ]
    },
    {
      "cell_type": "markdown",
      "source": [
        "# The `__init__` method in a Python class initializes the object's attributes when a new instance of the class is created."
      ],
      "metadata": {
        "id": "cU4lQcKbce_h"
      }
    }
  ]
}