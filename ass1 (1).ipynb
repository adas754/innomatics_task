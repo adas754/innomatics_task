{
  "nbformat": 4,
  "nbformat_minor": 0,
  "metadata": {
    "colab": {
      "provenance": []
    },
    "kernelspec": {
      "name": "python3",
      "display_name": "Python 3"
    },
    "language_info": {
      "name": "python"
    }
  },
  "cells": [
    {
      "cell_type": "markdown",
      "source": [
        "# 1 . Given an array of integers and a target value, you must determine which two integers' sum\n",
        "equals the target and return a 2D array. Then merge the array into a single array with sorting (\n",
        "ascending ) order, in the next step double the target value and find again the combination of\n",
        "digits (can be multiple digits ) that are equal to the double targeted value and returned into a 2D\n",
        "array.\n",
        "\n",
        "\n",
        "\n",
        "Sample Input : [1, 3, 2, 2, -4, -6, -2, 8];\n",
        "Target Value = 4,\n",
        "\n",
        "Output: First Combination For “4” :\n",
        "[ [1,3],[2,2],[-4,8],[-6,2] ];\n",
        "\n",
        "Merge Into a single Array : [-6,-4,1,2,2,2,3,8];\n",
        "\n",
        "Second Combination For “8” :\n",
        "[ [ 1,3,2,2], [8,-4,2,2],....,[n,n,n,n] ]"
      ],
      "metadata": {
        "id": "hKIETiSkrSJM"
      }
    },
    {
      "cell_type": "code",
      "source": [
        "def find_pairs(array, target):\n",
        "    pairs = []\n",
        "    for i in range(len(array)):\n",
        "        for j in range(i + 1, len(array)):\n",
        "            if array[i] + array[j] == target:\n",
        "                pairs.append([array[i], array[j]])\n",
        "    return pairs\n",
        "\n",
        "def merge_array(array):\n",
        "    merged_array = sorted(array)\n",
        "    return merged_array\n",
        "\n",
        "def find_double_pairs(array, target):\n",
        "    pairs = []\n",
        "    for i in range(len(array)):\n",
        "        combination = []\n",
        "        combination_sum = 0\n",
        "        for j in range(i, len(array)):\n",
        "            if combination_sum + array[j] <= target:\n",
        "                combination.append(array[j])\n",
        "                combination_sum += array[j]\n",
        "            else:\n",
        "                break\n",
        "        if combination_sum == target:\n",
        "            pairs.append(combination)\n",
        "    return pairs\n",
        "\n",
        "def main():\n",
        "    array = [1, 3, 2, 2, -4, -6, -2, 8]\n",
        "    target = 4\n",
        "    pairs = find_pairs(array, target)\n",
        "    print(\"First Combination For\", target, \":\", pairs)\n",
        "    merged_array = merge_array(array)\n",
        "    print(\"Merge Into a single Array:\", merged_array)\n",
        "    double_target = target * 2\n",
        "    double_pairs = find_double_pairs(merged_array, double_target)\n",
        "    print(\"Second Combination For\", double_target, \":\", double_pairs)\n",
        "\n",
        "main()\n"
      ],
      "metadata": {
        "colab": {
          "base_uri": "https://localhost:8080/"
        },
        "id": "5vCJVBYkwEWi",
        "outputId": "0070eb3a-c8ae-42e2-cba2-ef94a625edf4"
      },
      "execution_count": 36,
      "outputs": [
        {
          "output_type": "stream",
          "name": "stdout",
          "text": [
            "First Combination For 4 : [[1, 3], [2, 2], [-4, 8]]\n",
            "Merge Into a single Array: [-6, -4, -2, 1, 2, 2, 3, 8]\n",
            "Second Combination For 8 : [[1, 2, 2, 3], [8]]\n"
          ]
        }
      ]
    },
    {
      "cell_type": "code",
      "source": [],
      "metadata": {
        "id": "_WolrvlZ1Nto"
      },
      "execution_count": null,
      "outputs": []
    }
  ]
}