{
  "nbformat": 4,
  "nbformat_minor": 0,
  "metadata": {
    "colab": {
      "provenance": []
    },
    "kernelspec": {
      "name": "python3",
      "display_name": "Python 3"
    },
    "language_info": {
      "name": "python"
    }
  },
  "cells": [
    {
      "cell_type": "code",
      "source": [
        "import functools\n",
        "l=[1,2,3,4,5]\n",
        "m=functools.reduce(lambda x,y:x if x>y else y,l)\n",
        "print(m)"
      ],
      "metadata": {
        "colab": {
          "base_uri": "https://localhost:8080/"
        },
        "id": "lGMnxRU_OioU",
        "outputId": "c493d148-065b-4aba-a414-de9242706d6d"
      },
      "execution_count": 10,
      "outputs": [
        {
          "output_type": "stream",
          "name": "stdout",
          "text": [
            "5\n"
          ]
        }
      ]
    },
    {
      "cell_type": "code",
      "source": [
        "x=\"innomatics Research lab\"\n",
        "x"
      ],
      "metadata": {
        "colab": {
          "base_uri": "https://localhost:8080/",
          "height": 35
        },
        "id": "Yq3NsoL7P4cO",
        "outputId": "74bbb604-11ef-44a9-f317-a2e5f5c65302"
      },
      "execution_count": 8,
      "outputs": [
        {
          "output_type": "execute_result",
          "data": {
            "text/plain": [
              "'innomatics Research lab'"
            ],
            "application/vnd.google.colaboratory.intrinsic+json": {
              "type": "string"
            }
          },
          "metadata": {},
          "execution_count": 8
        }
      ]
    },
    {
      "cell_type": "code",
      "source": [
        "print(x)"
      ],
      "metadata": {
        "colab": {
          "base_uri": "https://localhost:8080/"
        },
        "id": "P3ZaBe2VQdcT",
        "outputId": "ea65079c-2014-415b-d914-378b81658a7a"
      },
      "execution_count": 9,
      "outputs": [
        {
          "output_type": "stream",
          "name": "stdout",
          "text": [
            "innomatics Research lab\n"
          ]
        }
      ]
    },
    {
      "cell_type": "code",
      "source": [
        "def f():x=4\n",
        "x=1\n",
        "f()\n",
        "x"
      ],
      "metadata": {
        "colab": {
          "base_uri": "https://localhost:8080/"
        },
        "id": "CZL9Zv5cQhT3",
        "outputId": "2e51cf49-1a6a-4c15-dc3d-d960d2360b54"
      },
      "execution_count": 15,
      "outputs": [
        {
          "output_type": "execute_result",
          "data": {
            "text/plain": [
              "1"
            ]
          },
          "metadata": {},
          "execution_count": 15
        }
      ]
    },
    {
      "cell_type": "code",
      "source": [
        "l1=[10,20,30]\n",
        "l2=l1\n",
        "id(l1)==id(l2)\n"
      ],
      "metadata": {
        "colab": {
          "base_uri": "https://localhost:8080/"
        },
        "id": "ImhljjhhWboF",
        "outputId": "ca895663-958f-4062-8552-5c7553d58a75"
      },
      "execution_count": 17,
      "outputs": [
        {
          "output_type": "execute_result",
          "data": {
            "text/plain": [
              "True"
            ]
          },
          "metadata": {},
          "execution_count": 17
        }
      ]
    },
    {
      "cell_type": "code",
      "source": [
        "l2=l1.copy()\n",
        "id(l1)==id(l2)"
      ],
      "metadata": {
        "colab": {
          "base_uri": "https://localhost:8080/"
        },
        "id": "pamloK_7dZ2j",
        "outputId": "87530f31-42dc-481e-a951-38262457d629"
      },
      "execution_count": 18,
      "outputs": [
        {
          "output_type": "execute_result",
          "data": {
            "text/plain": [
              "False"
            ]
          },
          "metadata": {},
          "execution_count": 18
        }
      ]
    },
    {
      "cell_type": "code",
      "source": [
        "x='abcd'\n",
        "for i in range(len(x)):\n",
        "  print(x)\n",
        "  x='a'\n",
        ""
      ],
      "metadata": {
        "colab": {
          "base_uri": "https://localhost:8080/"
        },
        "id": "ANM8WdxidnYq",
        "outputId": "77b1fd27-74e1-4d4d-e7fa-4b54842cffeb"
      },
      "execution_count": 23,
      "outputs": [
        {
          "output_type": "stream",
          "name": "stdout",
          "text": [
            "abcd\n",
            "a\n",
            "a\n",
            "a\n"
          ]
        }
      ]
    },
    {
      "cell_type": "code",
      "source": [
        "x = 'abcd'\n",
        "for i in range(len(x)):\n",
        "    ##i[x].upper()\n",
        "#print (x)"
      ],
      "metadata": {
        "colab": {
          "base_uri": "https://localhost:8080/",
          "height": 227
        },
        "id": "oHAVoNt_j9Mc",
        "outputId": "42c41c6f-39f1-4651-d2a6-4cfd6210a3d6"
      },
      "execution_count": 26,
      "outputs": [
        {
          "output_type": "error",
          "ename": "TypeError",
          "evalue": "ignored",
          "traceback": [
            "\u001b[0;31m---------------------------------------------------------------------------\u001b[0m",
            "\u001b[0;31mTypeError\u001b[0m                                 Traceback (most recent call last)",
            "\u001b[0;32m<ipython-input-26-d6c32ac0e67e>\u001b[0m in \u001b[0;36m<cell line: 2>\u001b[0;34m()\u001b[0m\n\u001b[1;32m      1\u001b[0m \u001b[0mx\u001b[0m \u001b[0;34m=\u001b[0m \u001b[0;34m'abcd'\u001b[0m\u001b[0;34m\u001b[0m\u001b[0;34m\u001b[0m\u001b[0m\n\u001b[1;32m      2\u001b[0m \u001b[0;32mfor\u001b[0m \u001b[0mi\u001b[0m \u001b[0;32min\u001b[0m \u001b[0mrange\u001b[0m\u001b[0;34m(\u001b[0m\u001b[0mlen\u001b[0m\u001b[0;34m(\u001b[0m\u001b[0mx\u001b[0m\u001b[0;34m)\u001b[0m\u001b[0;34m)\u001b[0m\u001b[0;34m:\u001b[0m\u001b[0;34m\u001b[0m\u001b[0;34m\u001b[0m\u001b[0m\n\u001b[0;32m----> 3\u001b[0;31m     \u001b[0mi\u001b[0m\u001b[0;34m[\u001b[0m\u001b[0mx\u001b[0m\u001b[0;34m]\u001b[0m\u001b[0;34m.\u001b[0m\u001b[0mupper\u001b[0m\u001b[0;34m(\u001b[0m\u001b[0;34m)\u001b[0m\u001b[0;34m\u001b[0m\u001b[0;34m\u001b[0m\u001b[0m\n\u001b[0m\u001b[1;32m      4\u001b[0m \u001b[0mprint\u001b[0m \u001b[0;34m(\u001b[0m\u001b[0mx\u001b[0m\u001b[0;34m)\u001b[0m\u001b[0;34m\u001b[0m\u001b[0;34m\u001b[0m\u001b[0m\n",
            "\u001b[0;31mTypeError\u001b[0m: 'int' object is not subscriptable"
          ]
        }
      ]
    },
    {
      "cell_type": "code",
      "source": [
        "round(4.576)"
      ],
      "metadata": {
        "colab": {
          "base_uri": "https://localhost:8080/"
        },
        "id": "LGlKcLN-mH1z",
        "outputId": "702e1ff9-3333-4b16-d541-933ff3563fde"
      },
      "execution_count": 29,
      "outputs": [
        {
          "output_type": "execute_result",
          "data": {
            "text/plain": [
              "5"
            ]
          },
          "metadata": {},
          "execution_count": 29
        }
      ]
    },
    {
      "cell_type": "code",
      "source": [
        "x=56.236\n",
        "print(\"%.2f\"%x)"
      ],
      "metadata": {
        "colab": {
          "base_uri": "https://localhost:8080/"
        },
        "id": "NTEScuTXmWny",
        "outputId": "7c4e063a-ece5-478a-a36f-59ef9c02d822"
      },
      "execution_count": 30,
      "outputs": [
        {
          "output_type": "stream",
          "name": "stdout",
          "text": [
            "56.24\n"
          ]
        }
      ]
    },
    {
      "cell_type": "code",
      "source": [
        "a=[0,1,2,3]\n",
        "for a[0] in a:\n",
        "  print(a[0])"
      ],
      "metadata": {
        "colab": {
          "base_uri": "https://localhost:8080/"
        },
        "id": "bWJRh5CvpL65",
        "outputId": "ab093304-affa-4f3c-d3c7-23bfb4605d26"
      },
      "execution_count": 31,
      "outputs": [
        {
          "output_type": "stream",
          "name": "stdout",
          "text": [
            "0\n",
            "1\n",
            "2\n",
            "3\n"
          ]
        }
      ]
    },
    {
      "cell_type": "code",
      "source": [
        "a={1,1,1,True}\n",
        "print(a)"
      ],
      "metadata": {
        "colab": {
          "base_uri": "https://localhost:8080/"
        },
        "id": "B-zW2H-1psJu",
        "outputId": "312c1ff8-e4e8-4deb-f375-6da2e0db6e7c"
      },
      "execution_count": 32,
      "outputs": [
        {
          "output_type": "stream",
          "name": "stdout",
          "text": [
            "{1}\n"
          ]
        }
      ]
    },
    {
      "cell_type": "code",
      "source": [
        "a=3\n",
        "b=3\n",
        "print(a is b ,end=\" \")\n",
        "a=\"Hello\"\n",
        "b=\"Hello\"\n",
        "print(a is b)"
      ],
      "metadata": {
        "colab": {
          "base_uri": "https://localhost:8080/"
        },
        "id": "i-9o2xmIq7C8",
        "outputId": "406f6438-3f30-4814-d9c5-1fa224c09e15"
      },
      "execution_count": 33,
      "outputs": [
        {
          "output_type": "stream",
          "name": "stdout",
          "text": [
            "True True\n"
          ]
        }
      ]
    },
    {
      "cell_type": "code",
      "source": [
        "num=[1,2,3,4,5]\n",
        "num.insert(-1,6)\n",
        "print(num)"
      ],
      "metadata": {
        "colab": {
          "base_uri": "https://localhost:8080/"
        },
        "id": "P-W8Sx_urp0_",
        "outputId": "ca1f9cb3-7b43-4dbf-9822-e65684ce11e8"
      },
      "execution_count": 36,
      "outputs": [
        {
          "output_type": "stream",
          "name": "stdout",
          "text": [
            "[1, 2, 3, 4, 6, 5]\n"
          ]
        }
      ]
    },
    {
      "cell_type": "code",
      "source": [
        "print(2*3+5/2)"
      ],
      "metadata": {
        "colab": {
          "base_uri": "https://localhost:8080/"
        },
        "id": "L9scMMLVt1HL",
        "outputId": "da936f51-7c92-41d7-994d-367df73a36f2"
      },
      "execution_count": 37,
      "outputs": [
        {
          "output_type": "stream",
          "name": "stdout",
          "text": [
            "8.5\n"
          ]
        }
      ]
    },
    {
      "cell_type": "code",
      "source": [
        "a=[1,2,3]\n",
        "b=a\n",
        "b=b+[4]\n",
        "print(a)\n",
        "print(b)"
      ],
      "metadata": {
        "colab": {
          "base_uri": "https://localhost:8080/"
        },
        "id": "-Y_WpHEo0Hq6",
        "outputId": "25d907bd-6caf-46b5-833d-a2eec27a74b3"
      },
      "execution_count": 39,
      "outputs": [
        {
          "output_type": "stream",
          "name": "stdout",
          "text": [
            "[1, 2, 3]\n",
            "[1, 2, 3, 4]\n"
          ]
        }
      ]
    },
    {
      "cell_type": "code",
      "source": [
        "x=10\n",
        "y=20\n",
        "z=30\n",
        "def foo():\n",
        "  x=y=z=40\n",
        "  x+=1\n",
        "  y+=2\n",
        "  z+=3\n",
        "  return x,y,z\n",
        "a,b,c=foo()\n",
        "print(a,b,c,x,y,z)\n"
      ],
      "metadata": {
        "colab": {
          "base_uri": "https://localhost:8080/"
        },
        "id": "jlWM0F6z0QHr",
        "outputId": "730bf5ff-a84b-4e1d-cdf8-aa1319d2a23c"
      },
      "execution_count": 40,
      "outputs": [
        {
          "output_type": "stream",
          "name": "stdout",
          "text": [
            "41 42 43 10 20 30\n"
          ]
        }
      ]
    },
    {
      "cell_type": "code",
      "source": [
        "n=int(input())\n",
        "for i in range(1,n+1):\n",
        "  spaces= \" \" * (n-i)\n",
        "  stars= \"* \" * i\n",
        "  print(spaces+stars)"
      ],
      "metadata": {
        "colab": {
          "base_uri": "https://localhost:8080/"
        },
        "id": "htnej_cu1X_Z",
        "outputId": "3fc8e639-ed2a-485f-bcfb-6c4d2339ab01"
      },
      "execution_count": 56,
      "outputs": [
        {
          "output_type": "stream",
          "name": "stdout",
          "text": [
            "5\n",
            "    * \n",
            "   * * \n",
            "  * * * \n",
            " * * * * \n",
            "* * * * * \n"
          ]
        }
      ]
    },
    {
      "cell_type": "code",
      "source": [
        "a=20000\n",
        "b=20000\n",
        "print(a is  b)\n",
        "a=3\n",
        "b=3\n",
        "print(a is b)"
      ],
      "metadata": {
        "colab": {
          "base_uri": "https://localhost:8080/"
        },
        "id": "13EcjFSv2OJr",
        "outputId": "95013226-ad48-4af6-cf1d-f13378edfaba"
      },
      "execution_count": 57,
      "outputs": [
        {
          "output_type": "stream",
          "name": "stdout",
          "text": [
            "False\n",
            "True\n"
          ]
        }
      ]
    },
    {
      "cell_type": "code",
      "source": [
        "class A:\n",
        "  def __init__(self,x):\n",
        "    self.x=x\n",
        "  def __add__(self,other):\n",
        "    return A(self.x+other.x)"
      ],
      "metadata": {
        "id": "NCHg5E8R4md6"
      },
      "execution_count": 58,
      "outputs": []
    },
    {
      "cell_type": "code",
      "source": [
        "a=A(10)\n",
        "b=A(20)\n",
        "c=a+b\n",
        "print(c.x)"
      ],
      "metadata": {
        "colab": {
          "base_uri": "https://localhost:8080/"
        },
        "id": "fbIjNpQL5VQc",
        "outputId": "74589ba2-640c-41a5-b411-3de67c199636"
      },
      "execution_count": 59,
      "outputs": [
        {
          "output_type": "stream",
          "name": "stdout",
          "text": [
            "30\n"
          ]
        }
      ]
    },
    {
      "cell_type": "code",
      "source": [
        "x=5\n",
        "y=eval(\"x+2\")\n",
        "z=exec(\"x+2\")\n",
        "print(y,z)"
      ],
      "metadata": {
        "colab": {
          "base_uri": "https://localhost:8080/"
        },
        "id": "_zAb-LPz5dgV",
        "outputId": "2ae64227-62cb-4d9a-c59f-c9b74186156a"
      },
      "execution_count": 61,
      "outputs": [
        {
          "output_type": "stream",
          "name": "stdout",
          "text": [
            "7 None\n"
          ]
        }
      ]
    },
    {
      "cell_type": "code",
      "source": [
        "x=\"1sdf1dsfs@asdas\"\n",
        "print(x.title())"
      ],
      "metadata": {
        "colab": {
          "base_uri": "https://localhost:8080/"
        },
        "id": "7004qkQu5yYV",
        "outputId": "0912d8cd-61b1-488b-86a8-fc2e993c84dc"
      },
      "execution_count": 62,
      "outputs": [
        {
          "output_type": "stream",
          "name": "stdout",
          "text": [
            "1Sdf1Dsfs@Asdas\n"
          ]
        }
      ]
    },
    {
      "cell_type": "code",
      "source": [
        "#iterable\n",
        "lst=[1,2,3,4]\n",
        "for i in lst:\n",
        "  print(i)\n"
      ],
      "metadata": {
        "colab": {
          "base_uri": "https://localhost:8080/"
        },
        "id": "bCIEYiY67rjn",
        "outputId": "47e55919-ec27-4741-e9f2-02c2018cf783"
      },
      "execution_count": 63,
      "outputs": [
        {
          "output_type": "stream",
          "name": "stdout",
          "text": [
            "1\n",
            "2\n",
            "3\n",
            "4\n"
          ]
        }
      ]
    },
    {
      "cell_type": "code",
      "source": [
        "list=[6,8,10]"
      ],
      "metadata": {
        "id": "ijzZBjeUARPm"
      },
      "execution_count": 78,
      "outputs": []
    },
    {
      "cell_type": "code",
      "source": [
        "iterable =iter(list)\n",
        "#for i in iterable:\n",
        "  #print(i)"
      ],
      "metadata": {
        "id": "1mUYtPLn_loK"
      },
      "execution_count": 80,
      "outputs": []
    },
    {
      "cell_type": "code",
      "source": [
        "try:\n",
        "  print(next(iterable))\n",
        "except StopIteration:\n",
        "  print(\"the iterator is empty\")"
      ],
      "metadata": {
        "colab": {
          "base_uri": "https://localhost:8080/"
        },
        "id": "gBVSvc7h_9tz",
        "outputId": "6e788dd5-7766-4eac-b39d-6c6efd0ece3b"
      },
      "execution_count": 84,
      "outputs": [
        {
          "output_type": "stream",
          "name": "stdout",
          "text": [
            "the iterator is empty\n"
          ]
        }
      ]
    },
    {
      "cell_type": "code",
      "source": [
        "#generator\n",
        "def squre(n):\n",
        "  for i in range(n):\n",
        "    return i**2\n"
      ],
      "metadata": {
        "id": "k8ZYSNowA6Sr"
      },
      "execution_count": 85,
      "outputs": []
    },
    {
      "cell_type": "code",
      "source": [
        "squre(3)"
      ],
      "metadata": {
        "colab": {
          "base_uri": "https://localhost:8080/"
        },
        "id": "qk-B0oZyCP_J",
        "outputId": "82f6d782-b672-4ee9-9ea5-b1436f474284"
      },
      "execution_count": 86,
      "outputs": [
        {
          "output_type": "execute_result",
          "data": {
            "text/plain": [
              "0"
            ]
          },
          "metadata": {},
          "execution_count": 86
        }
      ]
    },
    {
      "cell_type": "code",
      "source": [
        "def squre(n):\n",
        "  for i in range(n):\n",
        "    yield i**2\n"
      ],
      "metadata": {
        "id": "XSJMKfn8CSPC"
      },
      "execution_count": 90,
      "outputs": []
    },
    {
      "cell_type": "code",
      "source": [
        "for i in squre(3):\n",
        "  print(i)"
      ],
      "metadata": {
        "colab": {
          "base_uri": "https://localhost:8080/"
        },
        "id": "t0sGnXqiCb_I",
        "outputId": "0ffd403d-1a5b-4e07-c5f4-15d10e68937f"
      },
      "execution_count": 89,
      "outputs": [
        {
          "output_type": "stream",
          "name": "stdout",
          "text": [
            "0\n",
            "1\n",
            "4\n"
          ]
        }
      ]
    },
    {
      "cell_type": "code",
      "source": [
        "a=squre(3)\n",
        "a"
      ],
      "metadata": {
        "colab": {
          "base_uri": "https://localhost:8080/"
        },
        "id": "nXOSzlhMCeH0",
        "outputId": "990ead48-b7a7-4291-95c7-89dbb1de73b7"
      },
      "execution_count": 91,
      "outputs": [
        {
          "output_type": "execute_result",
          "data": {
            "text/plain": [
              "<generator object squre at 0x7ee2d719c9e0>"
            ]
          },
          "metadata": {},
          "execution_count": 91
        }
      ]
    },
    {
      "cell_type": "code",
      "source": [
        "next(a)"
      ],
      "metadata": {
        "colab": {
          "base_uri": "https://localhost:8080/"
        },
        "id": "Nt8s82IIC_c7",
        "outputId": "dc344334-a973-4652-8939-c917cc416223"
      },
      "execution_count": 94,
      "outputs": [
        {
          "output_type": "execute_result",
          "data": {
            "text/plain": [
              "4"
            ]
          },
          "metadata": {},
          "execution_count": 94
        }
      ]
    },
    {
      "cell_type": "markdown",
      "source": [
        "#to create iterator we use iter function and to create generator we use function with yield keyword\n",
        "\n",
        "#generator uses the yield keyword.it saves the local variable\n",
        "\n",
        "#generator in python helps us to write first and compact code\n",
        "\n",
        "#python iterator is much more memory efficient"
      ],
      "metadata": {
        "id": "X9Pb-xkpDNKF"
      }
    },
    {
      "cell_type": "code",
      "source": [
        "import types,collections"
      ],
      "metadata": {
        "id": "YOBtxCgIDBSr"
      },
      "execution_count": 95,
      "outputs": []
    },
    {
      "cell_type": "code",
      "source": [
        "import types\n",
        "import collections.abc\n",
        "\n",
        "issubclass(types.GeneratorType, collections.abc.Iterator)\n"
      ],
      "metadata": {
        "colab": {
          "base_uri": "https://localhost:8080/"
        },
        "id": "WBapqoRVE4ER",
        "outputId": "8a2f360c-d8fb-45f2-a32c-77dc102e2aae"
      },
      "execution_count": 98,
      "outputs": [
        {
          "output_type": "execute_result",
          "data": {
            "text/plain": [
              "True"
            ]
          },
          "metadata": {},
          "execution_count": 98
        }
      ]
    },
    {
      "cell_type": "code",
      "source": [
        "#copy"
      ],
      "metadata": {
        "id": "hOuoBNftGbdc"
      },
      "execution_count": 110,
      "outputs": []
    },
    {
      "cell_type": "code",
      "source": [
        "def welcome():\n",
        "  return \"welcome\""
      ],
      "metadata": {
        "id": "AtCg55GCEeuX"
      },
      "execution_count": 118,
      "outputs": []
    },
    {
      "cell_type": "code",
      "source": [
        "welcome()"
      ],
      "metadata": {
        "colab": {
          "base_uri": "https://localhost:8080/",
          "height": 35
        },
        "id": "Mvh18AplF8ZU",
        "outputId": "1ae37df5-6da0-4903-fc44-18929ef4b87e"
      },
      "execution_count": 119,
      "outputs": [
        {
          "output_type": "execute_result",
          "data": {
            "text/plain": [
              "'welcome'"
            ],
            "application/vnd.google.colaboratory.intrinsic+json": {
              "type": "string"
            }
          },
          "metadata": {},
          "execution_count": 119
        }
      ]
    },
    {
      "cell_type": "code",
      "source": [
        "wel=welcome()\n",
        "del welcome\n"
      ],
      "metadata": {
        "id": "i0uW2bN1F-eZ"
      },
      "execution_count": 120,
      "outputs": []
    },
    {
      "cell_type": "code",
      "source": [
        "wel"
      ],
      "metadata": {
        "colab": {
          "base_uri": "https://localhost:8080/",
          "height": 35
        },
        "id": "t4gCie8yGMjw",
        "outputId": "a8e293a8-1efc-4792-aa48-468da3c408c3"
      },
      "execution_count": 121,
      "outputs": [
        {
          "output_type": "execute_result",
          "data": {
            "text/plain": [
              "'welcome'"
            ],
            "application/vnd.google.colaboratory.intrinsic+json": {
              "type": "string"
            }
          },
          "metadata": {},
          "execution_count": 121
        }
      ]
    },
    {
      "cell_type": "code",
      "source": [
        "#closures\n",
        "def main_welcome(msg):\n",
        "  def sub_welcome_class():\n",
        "    print(\"welcome Hyderabad !\")\n",
        "    print(msg)\n",
        "    print(\"stay\")\n",
        "  return sub_welcome_class()"
      ],
      "metadata": {
        "id": "7PzO7a7gHFbe"
      },
      "execution_count": 128,
      "outputs": []
    },
    {
      "cell_type": "code",
      "source": [
        "main_welcome('munai')"
      ],
      "metadata": {
        "colab": {
          "base_uri": "https://localhost:8080/"
        },
        "id": "px446qtdH1G0",
        "outputId": "2766395c-398a-457b-a121-5fdc4900a4b8"
      },
      "execution_count": 130,
      "outputs": [
        {
          "output_type": "stream",
          "name": "stdout",
          "text": [
            "welcome Hyderabad !\n",
            "munai\n",
            "stay\n"
          ]
        }
      ]
    },
    {
      "cell_type": "code",
      "source": [
        "#closures\n",
        "def main_welcome(func):\n",
        "  def sub_welcome_class():\n",
        "    print(\"welcome Hyderabad !\")\n",
        "    func(\"this is city of joy\")\n",
        "    print(\"stay\")\n",
        "  return sub_welcome_class()"
      ],
      "metadata": {
        "id": "tw1LyjNTH3-A"
      },
      "execution_count": 134,
      "outputs": []
    },
    {
      "cell_type": "code",
      "source": [
        "main_welcome(print)"
      ],
      "metadata": {
        "colab": {
          "base_uri": "https://localhost:8080/"
        },
        "id": "zUSNPxO6Jkmr",
        "outputId": "8415398c-fcbb-414a-d699-2ef0cd537bca"
      },
      "execution_count": 135,
      "outputs": [
        {
          "output_type": "stream",
          "name": "stdout",
          "text": [
            "welcome Hyderabad !\n",
            "this is city of joy\n",
            "stay\n"
          ]
        }
      ]
    },
    {
      "cell_type": "code",
      "source": [
        "#closures\n",
        "def main_welcome(func):\n",
        "  def sub_welcome_class():\n",
        "    print(\"welcome Hyderabad !\")\n",
        "    print(func([1,2,3,4,5,6]))\n",
        "    print(\"stay\")\n",
        "  return sub_welcome_class()"
      ],
      "metadata": {
        "id": "t-qN2vzAKO0Z"
      },
      "execution_count": 136,
      "outputs": []
    },
    {
      "cell_type": "code",
      "source": [
        "main_welcome(len)"
      ],
      "metadata": {
        "colab": {
          "base_uri": "https://localhost:8080/"
        },
        "id": "aT0l9ErqKryD",
        "outputId": "a12f44e1-bae9-4278-e1e4-63c797de6ce9"
      },
      "execution_count": 137,
      "outputs": [
        {
          "output_type": "stream",
          "name": "stdout",
          "text": [
            "welcome Hyderabad !\n",
            "6\n",
            "stay\n"
          ]
        }
      ]
    },
    {
      "cell_type": "code",
      "source": [
        "#closures\n",
        "def main_welcome(func):\n",
        "  def sub_welcome_class():\n",
        "    print(\"welcome Hyderabad !\")\n",
        "    func()\n",
        "    print(\"stay\")\n",
        "  return sub_welcome_class()"
      ],
      "metadata": {
        "id": "S5ZZxfGMLVj9"
      },
      "execution_count": 143,
      "outputs": []
    },
    {
      "cell_type": "code",
      "source": [
        "def channel_name():\n",
        "  print(\"this is munai youtube chanel\")"
      ],
      "metadata": {
        "id": "6flvqWp-Kuq9"
      },
      "execution_count": 141,
      "outputs": []
    },
    {
      "cell_type": "code",
      "source": [
        "main_welcome(channel_name)"
      ],
      "metadata": {
        "colab": {
          "base_uri": "https://localhost:8080/"
        },
        "id": "Q7emqa32LGQR",
        "outputId": "3de36fbe-b550-4f18-bbc9-e6cc226e7ffc"
      },
      "execution_count": 142,
      "outputs": [
        {
          "output_type": "stream",
          "name": "stdout",
          "text": [
            "welcome Hyderabad !\n",
            "this is munai youtube chanel\n",
            "stay\n"
          ]
        }
      ]
    },
    {
      "cell_type": "code",
      "source": [
        "@main_welcome #parameter as a function\n",
        "def channel_name():\n",
        "  print('hlw')"
      ],
      "metadata": {
        "colab": {
          "base_uri": "https://localhost:8080/"
        },
        "id": "uw1UuEblLOsV",
        "outputId": "bcc000a4-f355-4886-a8e0-a74dc8e45219"
      },
      "execution_count": 145,
      "outputs": [
        {
          "output_type": "stream",
          "name": "stdout",
          "text": [
            "welcome Hyderabad !\n",
            "hlw\n",
            "stay\n"
          ]
        }
      ]
    },
    {
      "cell_type": "markdown",
      "source": [
        "Generators and decorators are both powerful features in Python, but they serve different purposes:\n",
        "\n",
        "1. **Generators:**\n",
        "   - Generators are a way to create iterators in Python using a special kind of function called a generator function.\n",
        "   - They use the `yield` keyword to produce a series of values lazily, one at a time, allowing you to iterate over large sequences efficiently without storing the entire sequence in memory.\n",
        "   - Generators are especially useful for processing large datasets or performing expensive computations on-the-fly.\n",
        "\n",
        "   Example of a generator function:\n",
        "   ```python\n",
        "   def my_generator():\n",
        "       for i in range(5):\n",
        "           yield i\n",
        "   ```\n",
        "\n",
        "2. **Decorators:**\n",
        "   - Decorators are higher-order functions that allow you to modify or extend the behavior of functions or methods without changing their source code.\n",
        "   - They are often used for tasks such as logging, timing, authorization, and memoization.\n",
        "   - Decorators are applied using the `@decorator_name` syntax above the function definition.\n",
        "\n",
        "   Example of a decorator:\n",
        "   ```python\n",
        "   def my_decorator(func):\n",
        "       def wrapper():\n",
        "           print(\"Something is happening before the function is called.\")\n",
        "           func()\n",
        "           print(\"Something is happening after the function is called.\")\n",
        "       return wrapper\n",
        "\n",
        "   @my_decorator\n",
        "   def say_hello():\n",
        "       print(\"Hello!\")\n",
        "\n",
        "   say_hello()\n",
        "   ```\n",
        "\n",
        "In the example above, `my_decorator` is a decorator that modifies the behavior of the `say_hello` function. When `say_hello` is called, it prints additional messages before and after executing the original function.\n",
        "\n",
        "In summary, generators are used for lazy evaluation and efficient iteration, while decorators are used to modify or extend the behavior of functions or methods."
      ],
      "metadata": {
        "id": "9Z3RLG_BNFo-"
      }
    },
    {
      "cell_type": "markdown",
      "source": [
        "#tuples are ordered and immutable, while sets are unordered and mutable with unique elements."
      ],
      "metadata": {
        "id": "DNS12qGgN9qU"
      }
    },
    {
      "cell_type": "markdown",
      "source": [
        "# A lambda function in Python is indeed anonymous\n"
      ],
      "metadata": {
        "id": "pwyybOsXPiCo"
      }
    },
    {
      "cell_type": "code",
      "source": [
        "\n",
        "numbers=[8,7,6,9]\n",
        "odd_num=list(filter(lambda x:x%2!=0,numbers))\n",
        "print(odd_num)"
      ],
      "metadata": {
        "colab": {
          "base_uri": "https://localhost:8080/"
        },
        "id": "OkFZbolBMI0K",
        "outputId": "fed38f63-d6ed-43cd-b5ef-01a14c58b90a"
      },
      "execution_count": 1,
      "outputs": [
        {
          "output_type": "stream",
          "name": "stdout",
          "text": [
            "[7, 9]\n"
          ]
        }
      ]
    },
    {
      "cell_type": "code",
      "source": [
        "from abc import ABC,abstractmethod\n",
        "class Animal(ABC):\n",
        "  def move(self):\n",
        "    pass\n",
        "class lion(Animal):\n",
        "  print('roar')\n",
        "r=lion()\n",
        "r.move()"
      ],
      "metadata": {
        "colab": {
          "base_uri": "https://localhost:8080/"
        },
        "id": "oJjpMSbJSFJp",
        "outputId": "7f6892e5-0bfe-4fad-d881-65058087235b"
      },
      "execution_count": 3,
      "outputs": [
        {
          "output_type": "stream",
          "name": "stdout",
          "text": [
            "roar\n"
          ]
        }
      ]
    },
    {
      "cell_type": "markdown",
      "source": [
        "# private"
      ],
      "metadata": {
        "id": "UwHAcnr49_OS"
      }
    },
    {
      "cell_type": "code",
      "source": [
        "class person:\n",
        "  def __init__(self,name,age):\n",
        "    self.__name=name\n",
        "    self.__age=age\n",
        "  def display_info(self):\n",
        "    print(f\"the person name is {self.__name} and age is{self.__age}\")\n",
        "p=person('m',24)\n",
        "\n",
        "\n"
      ],
      "metadata": {
        "id": "tDccU1Rm38v2"
      },
      "execution_count": 7,
      "outputs": []
    },
    {
      "cell_type": "code",
      "source": [
        "dir(p)"
      ],
      "metadata": {
        "colab": {
          "base_uri": "https://localhost:8080/"
        },
        "id": "sufRcael8m5d",
        "outputId": "25c7f6f3-f6c1-45cf-cad4-fe94ade9a997"
      },
      "execution_count": 8,
      "outputs": [
        {
          "output_type": "execute_result",
          "data": {
            "text/plain": [
              "['__class__',\n",
              " '__delattr__',\n",
              " '__dict__',\n",
              " '__dir__',\n",
              " '__doc__',\n",
              " '__eq__',\n",
              " '__format__',\n",
              " '__ge__',\n",
              " '__getattribute__',\n",
              " '__gt__',\n",
              " '__hash__',\n",
              " '__init__',\n",
              " '__init_subclass__',\n",
              " '__le__',\n",
              " '__lt__',\n",
              " '__module__',\n",
              " '__ne__',\n",
              " '__new__',\n",
              " '__reduce__',\n",
              " '__reduce_ex__',\n",
              " '__repr__',\n",
              " '__setattr__',\n",
              " '__sizeof__',\n",
              " '__str__',\n",
              " '__subclasshook__',\n",
              " '__weakref__',\n",
              " '_person__age',\n",
              " '_person__name',\n",
              " 'display_info']"
            ]
          },
          "metadata": {},
          "execution_count": 8
        }
      ]
    },
    {
      "cell_type": "code",
      "source": [
        "p._person__age=35"
      ],
      "metadata": {
        "id": "CZvCVtyX8ro7"
      },
      "execution_count": 13,
      "outputs": []
    },
    {
      "cell_type": "code",
      "source": [
        "p._person__age"
      ],
      "metadata": {
        "colab": {
          "base_uri": "https://localhost:8080/"
        },
        "id": "9RH6Nyop801e",
        "outputId": "e48bf451-e708-42ab-f195-9f093ceb0760"
      },
      "execution_count": 14,
      "outputs": [
        {
          "output_type": "execute_result",
          "data": {
            "text/plain": [
              "35"
            ]
          },
          "metadata": {},
          "execution_count": 14
        }
      ]
    },
    {
      "cell_type": "code",
      "source": [
        "p.display_info()"
      ],
      "metadata": {
        "colab": {
          "base_uri": "https://localhost:8080/"
        },
        "id": "lFT1TDw39lqL",
        "outputId": "de5c7ca3-54be-40fc-c0b4-1cb5bfc9f1f8"
      },
      "execution_count": 15,
      "outputs": [
        {
          "output_type": "stream",
          "name": "stdout",
          "text": [
            "the person name is m and age is35\n"
          ]
        }
      ]
    },
    {
      "cell_type": "markdown",
      "source": [
        "# protected"
      ],
      "metadata": {
        "id": "HtM1zqUBA6v7"
      }
    },
    {
      "cell_type": "code",
      "source": [
        "class person:\n",
        "  def __init__(self,name,age):\n",
        "    self._name=name\n",
        "    self._age=age\n",
        "  def display_info(self):\n",
        "    print(f\"the person name is {self._name} and age is{self._age}\")\n",
        "p=person('m',24)"
      ],
      "metadata": {
        "id": "Yy15hH0h9tzW"
      },
      "execution_count": 16,
      "outputs": []
    },
    {
      "cell_type": "code",
      "source": [
        "dir(p)\n"
      ],
      "metadata": {
        "colab": {
          "base_uri": "https://localhost:8080/"
        },
        "id": "Ge11xXDt-Tp8",
        "outputId": "798f524d-b9d1-459e-c38b-55a5902d6d62"
      },
      "execution_count": 18,
      "outputs": [
        {
          "output_type": "execute_result",
          "data": {
            "text/plain": [
              "['__class__',\n",
              " '__delattr__',\n",
              " '__dict__',\n",
              " '__dir__',\n",
              " '__doc__',\n",
              " '__eq__',\n",
              " '__format__',\n",
              " '__ge__',\n",
              " '__getattribute__',\n",
              " '__gt__',\n",
              " '__hash__',\n",
              " '__init__',\n",
              " '__init_subclass__',\n",
              " '__le__',\n",
              " '__lt__',\n",
              " '__module__',\n",
              " '__ne__',\n",
              " '__new__',\n",
              " '__reduce__',\n",
              " '__reduce_ex__',\n",
              " '__repr__',\n",
              " '__setattr__',\n",
              " '__sizeof__',\n",
              " '__str__',\n",
              " '__subclasshook__',\n",
              " '__weakref__',\n",
              " '_age',\n",
              " '_name',\n",
              " 'display_info']"
            ]
          },
          "metadata": {},
          "execution_count": 18
        }
      ]
    },
    {
      "cell_type": "code",
      "source": [
        "class person:\n",
        "  def __init__(self,name,age):\n",
        "    self._name=name\n",
        "    self._age=age"
      ],
      "metadata": {
        "id": "c3c9N5DTAU6k"
      },
      "execution_count": 23,
      "outputs": []
    },
    {
      "cell_type": "code",
      "source": [
        "class student(person):\n",
        "  def __init__(self,name,age):\n",
        "    super().__init__(name,age)\n",
        "  def display_info(self):\n",
        "    print(f\"the person name is {self._name} and age is{self._age}\")\n",
        ""
      ],
      "metadata": {
        "id": "iLgS8zIe-cMl"
      },
      "execution_count": 24,
      "outputs": []
    },
    {
      "cell_type": "code",
      "source": [
        "st1=student('m',24)\n",
        "st1.display_info()"
      ],
      "metadata": {
        "colab": {
          "base_uri": "https://localhost:8080/"
        },
        "id": "wVN13GEb_h0c",
        "outputId": "784c720f-bd9e-41ee-d176-480b5e80a102"
      },
      "execution_count": 25,
      "outputs": [
        {
          "output_type": "stream",
          "name": "stdout",
          "text": [
            "the person name is m and age is24\n"
          ]
        }
      ]
    },
    {
      "cell_type": "markdown",
      "source": [
        "# public"
      ],
      "metadata": {
        "id": "wWcCgU-3AzeO"
      }
    },
    {
      "cell_type": "code",
      "source": [
        "class person:\n",
        "  def __init__(self,name,age):\n",
        "    self.name=name\n",
        "    self.age=age\n",
        "p=person('m',25)\n",
        "p.age"
      ],
      "metadata": {
        "colab": {
          "base_uri": "https://localhost:8080/"
        },
        "id": "8bkwu1-KAON7",
        "outputId": "df5dddd6-a9fe-4f24-a975-e16baf5a50aa"
      },
      "execution_count": 26,
      "outputs": [
        {
          "output_type": "execute_result",
          "data": {
            "text/plain": [
              "25"
            ]
          },
          "metadata": {},
          "execution_count": 26
        }
      ]
    },
    {
      "cell_type": "markdown",
      "source": [
        "In Python, classes implement data abstraction by exposing only necessary details and encapsulation by bundling data (attributes) and methods into a single unit.\n",
        "\n",
        "- **Data Abstraction:** Classes hide complex implementation details and reveal only necessary features through methods, allowing users to interact with objects without understanding their internal complexities.\n",
        "\n",
        "- **Encapsulation:** Classes bundle data and methods together. Access control mechanisms (public, protected, private) restrict the visibility of attributes and methods, enhancing security and preventing accidental modification of data."
      ],
      "metadata": {
        "id": "tChy6vJzCLOi"
      }
    },
    {
      "cell_type": "code",
      "source": [
        "class BankAccount:\n",
        "    def __init__(self, account_number, balance):\n",
        "        self._account_number = account_number  # Protected member\n",
        "        self.__balance = balance  # Private member\n",
        "\n",
        "    def get_account_number(self):\n",
        "        return self._account_number\n",
        "\n",
        "    def get_balance(self):\n",
        "        return self.__balance\n",
        "\n",
        "    def deposit(self, amount):\n",
        "        if amount > 0:\n",
        "            self.__balance += amount\n",
        "\n",
        "    def withdraw(self, amount):\n",
        "        if 0 < amount <= self.__balance:\n",
        "            self.__balance -= amount\n",
        "        else:\n",
        "            print(\"Insufficient funds!\")\n",
        "\n",
        "# Example usage\n",
        "account1 = BankAccount(\"12345\", 1000)\n",
        "print(\"Account Number:\", account1.get_account_number())  # Accessing protected member\n",
        "print(\"Balance:\", account1.get_balance())  # Accessing private member\n",
        "\n",
        "account1.deposit(500)  # Depositing money\n",
        "print(\"New Balance after deposit:\", account1.get_balance())\n",
        "\n",
        "account1.withdraw(200)  # Withdrawing money\n",
        "print(\"New Balance after withdrawal:\", account1.get_balance())\n"
      ],
      "metadata": {
        "colab": {
          "base_uri": "https://localhost:8080/"
        },
        "id": "1LDMn9XrAxAL",
        "outputId": "4979be33-19b0-42c6-baef-1e24b8a69d2a"
      },
      "execution_count": 27,
      "outputs": [
        {
          "output_type": "stream",
          "name": "stdout",
          "text": [
            "Account Number: 12345\n",
            "Balance: 1000\n",
            "New Balance after deposit: 1500\n",
            "New Balance after withdrawal: 1300\n"
          ]
        }
      ]
    },
    {
      "cell_type": "code",
      "source": [
        "class student:\n",
        "  def __init__(pavan,name):\n",
        "    pavan.__name=name\n",
        "child1=student('deepraj')\n"
      ],
      "metadata": {
        "id": "oq_VztHfExmS"
      },
      "execution_count": 28,
      "outputs": []
    },
    {
      "cell_type": "code",
      "source": [
        "child1._student__name"
      ],
      "metadata": {
        "colab": {
          "base_uri": "https://localhost:8080/",
          "height": 35
        },
        "id": "-3UuiOA-Es9f",
        "outputId": "7d981dbc-6ad8-42db-d2c2-067793ba5c67"
      },
      "execution_count": 30,
      "outputs": [
        {
          "output_type": "execute_result",
          "data": {
            "text/plain": [
              "'deepraj'"
            ],
            "application/vnd.google.colaboratory.intrinsic+json": {
              "type": "string"
            }
          },
          "metadata": {},
          "execution_count": 30
        }
      ]
    },
    {
      "cell_type": "code",
      "source": [
        "rows=int(input())\n",
        "cols=2*rows\n",
        "for i in range(rows):\n",
        "  for j in range(cols):\n",
        "    if i==0 or i==rows-1 or j==0 or j==cols-1:\n",
        "      print(\"*\",end=\" \")\n",
        "    else:\n",
        "      print(\" \",end= \" \")\n",
        "  print()\n"
      ],
      "metadata": {
        "colab": {
          "base_uri": "https://localhost:8080/"
        },
        "id": "KP0ArwN0FTIk",
        "outputId": "ce3f66f7-2ef3-4d2c-c881-e95bb0f393de"
      },
      "execution_count": 32,
      "outputs": [
        {
          "output_type": "stream",
          "name": "stdout",
          "text": [
            "6\n",
            "* * * * * * * * * * * * \n",
            "*                     * \n",
            "*                     * \n",
            "*                     * \n",
            "*                     * \n",
            "* * * * * * * * * * * * \n"
          ]
        }
      ]
    },
    {
      "cell_type": "code",
      "source": [
        "number=int(input())\n",
        "digit_count={}\n",
        "while number>0:\n",
        "  digit=number%10\n",
        "  if digit in digit_count:\n",
        "    digit_count[digit]+=1\n",
        "  else:\n",
        "    digit_count[digit]=1\n",
        "  number//=10\n",
        "print(digit_count)"
      ],
      "metadata": {
        "colab": {
          "base_uri": "https://localhost:8080/"
        },
        "id": "uAo4btv7InNn",
        "outputId": "c3cb0577-ce71-41cd-c2a8-0458bcd3d9c9"
      },
      "execution_count": 33,
      "outputs": [
        {
          "output_type": "stream",
          "name": "stdout",
          "text": [
            "123215232157896523214569874523\n",
            "{3: 4, 2: 7, 5: 5, 4: 2, 7: 2, 8: 2, 9: 2, 6: 2, 1: 4}\n"
          ]
        }
      ]
    },
    {
      "cell_type": "code",
      "source": [
        "number=int(input())\n",
        "output=\"\"\n",
        "while number>0:\n",
        "  digit=number%10\n",
        "  if digit%2==0:\n",
        "    output=\"Foo\"+output\n",
        "  else:\n",
        "    output=\"Bar\"+output\n",
        "  number//=10\n",
        "print(output)"
      ],
      "metadata": {
        "colab": {
          "base_uri": "https://localhost:8080/"
        },
        "id": "ox2z4TNIJ2As",
        "outputId": "27c17209-19ec-4b00-f1c3-1fb117ddc124"
      },
      "execution_count": 35,
      "outputs": [
        {
          "output_type": "stream",
          "name": "stdout",
          "text": [
            "123456\n",
            "BarFooBarFooBarFoo\n"
          ]
        }
      ]
    },
    {
      "cell_type": "code",
      "source": [
        "original_list = [1, 2, 3, 4, 5]\n",
        "\n",
        "# Create a copy of the list using slicing\n",
        "copied_list = original_list[:]\n",
        "\n",
        "print(\"Original List:\", original_list)\n",
        "print(\"Copied List:\", copied_list)\n"
      ],
      "metadata": {
        "colab": {
          "base_uri": "https://localhost:8080/"
        },
        "id": "ny-lUnsVKzDU",
        "outputId": "c265df46-e57c-4936-db11-4457e7f8a629"
      },
      "execution_count": 36,
      "outputs": [
        {
          "output_type": "stream",
          "name": "stdout",
          "text": [
            "Original List: [1, 2, 3, 4, 5]\n",
            "Copied List: [1, 2, 3, 4, 5]\n"
          ]
        }
      ]
    },
    {
      "cell_type": "code",
      "source": [
        "def selfDividingNumbers(left,right):\n",
        "  def is_self_dividing(num):\n",
        "    for digit in str(num):\n",
        "      if digit=='0' or num%int(digit)!=0:\n",
        "        return False\n",
        "    return True\n",
        "  self_dividing_nums=[]\n",
        "  for num in range(left,right+1):\n",
        "    if is_self_dividing(num):\n",
        "      self_dividing_nums.append(num)\n",
        "  return self_dividing_nums\n",
        "left1,right1=1,22\n",
        "result1=selfDividingNumbers(left1,right1)\n",
        "print(result1)"
      ],
      "metadata": {
        "colab": {
          "base_uri": "https://localhost:8080/"
        },
        "id": "G3FjLbkWM0WN",
        "outputId": "a2f4871a-ed71-4a22-b392-51404732de4f"
      },
      "execution_count": 37,
      "outputs": [
        {
          "output_type": "stream",
          "name": "stdout",
          "text": [
            "[1, 2, 3, 4, 5, 6, 7, 8, 9, 11, 12, 15, 22]\n"
          ]
        }
      ]
    }
  ]
}